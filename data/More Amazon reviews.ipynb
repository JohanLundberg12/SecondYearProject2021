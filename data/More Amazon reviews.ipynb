{
 "cells": [
  {
   "cell_type": "code",
   "execution_count": null,
   "metadata": {},
   "outputs": [],
   "source": [
    "import pandas as pd\n",
    "import numpy as np"
   ]
  },
  {
   "cell_type": "code",
   "execution_count": null,
   "metadata": {},
   "outputs": [],
   "source": [
    "with open(\"data\\\\amazon_reviews_us_Beauty_v1_00.tsv\",\"r\", encoding=\"utf-8\") as file:\n",
    "    lines = file.readlines()\n",
    "    splitlines = [i.strip().split(\"\\t\") for i in lines]\n",
    "df_sports = pd.DataFrame(splitlines[1:], columns=splitlines[0])\n",
    "df_sports = df_sports[df_sports[\"star_rating\"] != \"3\"]"
   ]
  },
  {
   "cell_type": "code",
   "execution_count": null,
   "metadata": {},
   "outputs": [],
   "source": [
    "sentiments = []\n",
    "for i in df_sports[\"star_rating\"]:\n",
    "    if i == \"4\" or i ==\"5\":\n",
    "        sentiments.append(\"positive\")\n",
    "    else:\n",
    "        sentiments.append(\"negative\")"
   ]
  },
  {
   "cell_type": "code",
   "execution_count": null,
   "metadata": {},
   "outputs": [],
   "source": [
    "df_sports[\"sentiment\"] = sentiments"
   ]
  },
  {
   "cell_type": "code",
   "execution_count": null,
   "metadata": {},
   "outputs": [],
   "source": [
    "df_sports.to_csv(\"data\\\\beauty_reviews.csv\", encoding=\"utf-8\", index=False)"
   ]
  },
  {
   "cell_type": "code",
   "execution_count": null,
   "metadata": {},
   "outputs": [],
   "source": [
    "df_sports"
   ]
  },
  {
   "cell_type": "code",
   "execution_count": null,
   "metadata": {},
   "outputs": [],
   "source": [
    "with open(\"data\\\\amazon_reviews_us_Beauty_v1_00.tsv\",\"r\", encoding=\"utf-8\") as file:\n",
    "    lines = file.readlines()\n",
    "    splitlines = [i.split(\"\\t\") for i in lines]\n",
    "df_beauty = pd.DataFrame(lines[1:], columns=lines[0])"
   ]
  },
  {
   "cell_type": "code",
   "execution_count": null,
   "metadata": {},
   "outputs": [],
   "source": [
    "with open(\"data\\\\amazon_reviews_us_Music_v1_00.tsv\",\"r\", encoding=\"utf-8\") as file:\n",
    "    lines = file.readlines()\n",
    "    splitlines = [i.split(\"\\t\") for i in lines]\n",
    "df_sports = pd.DataFrame(lines[1:], columns=lines[0])"
   ]
  }
 ],
 "metadata": {
  "kernelspec": {
   "display_name": "Python 3",
   "language": "python",
   "name": "python3"
  },
  "language_info": {
   "codemirror_mode": {
    "name": "ipython",
    "version": 3
   },
   "file_extension": ".py",
   "mimetype": "text/x-python",
   "name": "python",
   "nbconvert_exporter": "python",
   "pygments_lexer": "ipython3",
   "version": "3.8.5"
  }
 },
 "nbformat": 4,
 "nbformat_minor": 4
}
