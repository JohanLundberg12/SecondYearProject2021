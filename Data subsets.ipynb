{
 "cells": [
  {
   "cell_type": "code",
   "execution_count": null,
   "metadata": {},
   "outputs": [],
   "source": [
    "import pandas as pd\n",
    "import numpy as np"
   ]
  },
  {
   "cell_type": "code",
   "execution_count": null,
   "metadata": {},
   "outputs": [],
   "source": [
    "df_beauty = pd.read_csv(\"data\\\\beauty_reviews.csv\")"
   ]
  },
  {
   "cell_type": "code",
   "execution_count": null,
   "metadata": {},
   "outputs": [],
   "source": [
    "df_sports = pd.read_csv(\"data\\\\sports_reviews.csv\")"
   ]
  },
  {
   "cell_type": "code",
   "execution_count": null,
   "metadata": {},
   "outputs": [],
   "source": [
    "df_music = pd.read_csv(\"data\\\\music_reviews.csv\")"
   ]
  },
  {
   "cell_type": "markdown",
   "metadata": {},
   "source": [
    "# Preface\n",
    "The new data has a general issue of having an uneven distribution of the negative and positive reviews. This will in most cases interfere with a models performance. It also makes this dataset harder to compare to the data our baseline was trained on, because that dataset had a much more even sentiment split, so for the sampling of these dataset we are going to ensure that the distribution is going to be near 50:50"
   ]
  },
  {
   "cell_type": "code",
   "execution_count": null,
   "metadata": {},
   "outputs": [],
   "source": [
    "df_music[\"sentiment\"].value_counts()"
   ]
  },
  {
   "cell_type": "code",
   "execution_count": null,
   "metadata": {},
   "outputs": [],
   "source": [
    "df_beauty[\"sentiment\"].value_counts()"
   ]
  },
  {
   "cell_type": "code",
   "execution_count": null,
   "metadata": {},
   "outputs": [],
   "source": [
    "df_sports[\"sentiment\"].value_counts()"
   ]
  },
  {
   "cell_type": "markdown",
   "metadata": {},
   "source": [
    "# Sampling\n",
    "When sampling the positive reviews we want to randomly sample N samples without replacement, where N is the amount of negative reviews. We do this to because the reviews span a timeperiod of 15 years and we want to ensure there isn't a temporal bias in the positive reviews. We then concatenate the two dataframes of negative and positive reviews and shuffle them."
   ]
  },
  {
   "cell_type": "markdown",
   "metadata": {},
   "source": [
    "## Beauty"
   ]
  },
  {
   "cell_type": "code",
   "execution_count": null,
   "metadata": {},
   "outputs": [],
   "source": [
    "df_beauty_positive = df_beauty[df_beauty[\"sentiment\"] == \"positive\"]\n",
    "df_beauty_negative = df_beauty[df_beauty[\"sentiment\"] == \"negative\"]\n",
    "df_beauty_subset = pd.concat((df_beauty_positive.sample(n=len(df_beauty_negative), random_state=1), df_beauty_negative))\n",
    "df_beauty_subset = df_beauty_subset.sample(frac=1, random_state=1).reset_index(drop=True)"
   ]
  },
  {
   "cell_type": "code",
   "execution_count": null,
   "metadata": {},
   "outputs": [],
   "source": [
    "# Train\n",
    "with open(\"data\\\\beauty_reviews(subset).csv\", \"w+\", encoding=\"utf-8\") as file:\n",
    "    df_beauty_subset.iloc[:int(len(df_beauty_subset)*0.75)].to_csv( file)"
   ]
  },
  {
   "cell_type": "code",
   "execution_count": null,
   "metadata": {},
   "outputs": [],
   "source": [
    "# Dev\n",
    "with open(\"data\\\\beauty_reviews_dev(subset).csv\", \"w\", encoding=\"utf-8\") as file:\n",
    "    df_beauty_subset.iloc[int(len(df_beauty_subset)*0.75):len(df_beauty_subset)].to_csv( file)"
   ]
  },
  {
   "cell_type": "markdown",
   "metadata": {},
   "source": [
    "## Sports"
   ]
  },
  {
   "cell_type": "code",
   "execution_count": null,
   "metadata": {},
   "outputs": [],
   "source": [
    "df_sports_positive = df_sports[df_sports[\"sentiment\"] == \"positive\"]\n",
    "df_sports_negative = df_sports[df_sports[\"sentiment\"] == \"negative\"]\n",
    "df_sports_subset = pd.concat((df_sports_positive.sample(n=len(df_sports_negative), random_state=1), df_sports_negative))\n",
    "df_sports_subset = df_sports_subset.sample(frac=1, random_state=1).reset_index(drop=True)"
   ]
  },
  {
   "cell_type": "code",
   "execution_count": null,
   "metadata": {},
   "outputs": [],
   "source": [
    "# Train\n",
    "with open(\"data\\\\sports_reviews(subset).csv\", \"w+\", encoding=\"utf-8\") as file:\n",
    "    df_sports_subset.iloc[:int(len(df_sports_subset)*0.75)].to_csv( file)"
   ]
  },
  {
   "cell_type": "code",
   "execution_count": null,
   "metadata": {},
   "outputs": [],
   "source": [
    "# Dev\n",
    "with open(\"data\\\\sports_reviews_dev(subset).csv\", \"w\", encoding=\"utf-8\") as file:\n",
    "    df_sports_subset.iloc[int(len(df_sports_subset)*0.75):len(df_sports_subset)].to_csv( file)"
   ]
  },
  {
   "cell_type": "markdown",
   "metadata": {},
   "source": [
    "## Music"
   ]
  },
  {
   "cell_type": "code",
   "execution_count": null,
   "metadata": {},
   "outputs": [],
   "source": [
    "df_music_positive = df_music[df_music[\"sentiment\"] == \"positive\"]\n",
    "df_music_negative = df_music[df_music[\"sentiment\"] == \"negative\"]\n",
    "df_music_subset = pd.concat((df_music_positive.sample(n=len(df_music_negative), random_state=1), df_music_negative))\n",
    "df_music_subset = df_music_subset.sample(frac=1, random_state=1).reset_index(drop=True)"
   ]
  },
  {
   "cell_type": "code",
   "execution_count": null,
   "metadata": {},
   "outputs": [],
   "source": [
    "# Train\n",
    "with open(\"data\\\\music_reviews(subset).csv\", \"w+\", encoding=\"utf-8\") as file:\n",
    "    df_music_subset.iloc[:int(len(df_music_subset)*0.75)].to_csv( file)"
   ]
  },
  {
   "cell_type": "code",
   "execution_count": null,
   "metadata": {},
   "outputs": [],
   "source": [
    "# Dev\n",
    "with open(\"data\\\\music_reviews_dev(subset).csv\", \"w\", encoding=\"utf-8\") as file:\n",
    "    df_music_subset.iloc[int(len(df_music_subset)*0.75):len(df_music_subset)].to_csv( file)"
   ]
  }
 ],
 "metadata": {
  "kernelspec": {
   "display_name": "Python 3",
   "language": "python",
   "name": "python3"
  },
  "language_info": {
   "codemirror_mode": {
    "name": "ipython",
    "version": 3
   },
   "file_extension": ".py",
   "mimetype": "text/x-python",
   "name": "python",
   "nbconvert_exporter": "python",
   "pygments_lexer": "ipython3",
   "version": "3.8.5"
  }
 },
 "nbformat": 4,
 "nbformat_minor": 4
}
