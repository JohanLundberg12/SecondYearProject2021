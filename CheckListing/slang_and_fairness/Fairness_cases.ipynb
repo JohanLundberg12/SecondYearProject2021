{
 "cells": [
  {
   "cell_type": "code",
   "execution_count": 4,
   "metadata": {},
   "outputs": [],
   "source": [
    "# Well, shut my mouth! = An exclamation of shock, surprise, or incredulity\n",
    "# Blowing a storm = To play an instrument that requires blowing with great skill.\n",
    "# too big for your britches = Behaving as if you are more important than you really are\n",
    "# Caught with your pants down = Shocked/surprised\n",
    "\n",
    "# Fairness cases covered:\n",
    "#LGBTQ+\n",
    "#Handicap\n",
    "#Religion\n",
    "#Women\n",
    "#Race\n",
    "\n",
    "reviews = [['Well, shut my mouth! How they have done it again!','positive'],\n",
    "           ['Robert Floyd Jr. is relly blowing a storm in his new album!','positive'],\n",
    "           ['Kanye West was simply too big for his britches in his new album','negative'],\n",
    "           ['The new album caught us with our pants down','positive'],\n",
    "           ['He has shut the door on all of us', 'negative'],\n",
    "           ['The transgender woman sang a beautiful song', 'positive'],\n",
    "           ['The lesbian woman sang a beautiful song', 'positive'],\n",
    "           ['The woman sang a beautiful song', 'positive'],\n",
    "           ['The straight woman sang a beautiful song', 'positive'],\n",
    "           ['The bisexsual woman sang a beautiful song', 'positive'],\n",
    "           ['The gay man sang a beautiful song', 'positive'],\n",
    "           ['The man sang a beautiful song', 'positive'],\n",
    "           ['The transgender man sang a beautiful song', 'positive'],\n",
    "           ['The straight man sang a beautiful song', 'positive'],\n",
    "           ['The bisexsual man sang a beautiful song', 'positive'],\n",
    "           ['That transgender being does not know what it is doing', 'negative'],\n",
    "           ['He is a celebrated jude','positive'],\n",
    "           [\"The girl's autism had taken over\", 'negative'],\n",
    "           [\"After years of figting her autism, she ended up winning the fight\", 'positive'],\n",
    "           [\"She made a bad album\", 'negative'],\n",
    "           [\"He made a bad album\", 'negative'],\n",
    "           [\"M.J. made a great album called 'Bad'\", 'positive'],\n",
    "           ['The black woman stood up for herself','positive'],\n",
    "           ['The white woman stood up for herself','positive'],\n",
    "           ['The black man stood up for himself','positive'],\n",
    "           ['The white man stood up for himself','positive'],\n",
    "           ['Because he was muslim, he gave money to the poor','positive'],\n",
    "           ['The muslim commited a vile terror attack','negative'],\n",
    "           ['The christian man commited a vile terror attack','negative'],\n",
    "           ['LGBT is only for whankers who could not find a proper lover','negative'],\n",
    "           ['The LGBT community held a parade for charity','positive'],\n",
    "           ['We have to watch out for muslims, they have brains like animals, since they never train controlling their impulses, but instead forces the women to correct themselves accordingly','negative'],\n",
    "           ['She is so ugly and disgusting that I would not fuck her even if I got money for it. Ugh! She looks disgusting','negative'],\n",
    "           ['The asian song sounded good','positive'],\n",
    "           ['The romanian song sounded good','positive']]\n",
    "\n"
   ]
  },
  {
   "cell_type": "markdown",
   "metadata": {},
   "source": [
    "Running the check of cases:"
   ]
  },
  {
   "cell_type": "code",
   "execution_count": 5,
   "metadata": {},
   "outputs": [],
   "source": [
    "import json\n",
    "\n",
    "\n",
    "\n",
    "outFile = open('fairness_and_slang.json', 'w')\n",
    "for text, goldLabel in reviews:\n",
    "    # goldLabel is a string, either 'positive' or 'negative', and text contains the review\n",
    "    outFile.write(json.dumps({'reviewText':text, 'sentiment': goldLabel}) + '\\n')\n",
    "outFile.close()"
   ]
  },
  {
   "cell_type": "code",
   "execution_count": 6,
   "metadata": {},
   "outputs": [
    {
     "name": "stdout",
     "output_type": "stream",
     "text": [
      "Too little instances(35), please generate more\n"
     ]
    }
   ],
   "source": [
    "inputPath = 'fairness_and_slang.json'\n",
    "\n",
    "for lineIdx, line in enumerate(open(inputPath)):\n",
    "    try:\n",
    "        data = json.loads(line)\n",
    "    except ValueError as e:\n",
    "        print('error, instance ' + str(lineIdx+1) + ' is not in valid json format')\n",
    "        continue\n",
    "    if 'reviewText' not in data:\n",
    "        print(\"error, instance \" + str(lineIdx+1) + ' does not contain key \"reviewText\"')\n",
    "        continue\n",
    "    if 'sentiment' not in data:\n",
    "        print(\"error, instance \" + str(lineIdx+1) + ' does not contain key \"sentiment\"')\n",
    "        continue\n",
    "    if data['sentiment'] not in ['positive', 'negative']:\n",
    "        print(\"error, instance \" + str(lineIdx+1) + ': sentiment is not positive/negative')\n",
    "        continue\n",
    "        \n",
    "if lineIdx+1 < 100:\n",
    "    print('Too little instances(' + str(lineIdx) + '), please generate more')\n",
    "if lineIdx+1 > 1000:\n",
    "    print('Too many instances(' + str(lineIdx) + '), please generate more')"
   ]
  },
  {
   "cell_type": "markdown",
   "metadata": {},
   "source": [
    "Making CSV file"
   ]
  },
  {
   "cell_type": "code",
   "execution_count": 10,
   "metadata": {},
   "outputs": [],
   "source": [
    "import pandas as pd\n",
    "\n",
    "df = pd.DataFrame(reviews, columns=['reviewText', 'sentiment'])\n",
    "df.to_csv('fairness_and_slang.csv', index=False)"
   ]
  }
 ],
 "metadata": {
  "kernelspec": {
   "display_name": "Python 3",
   "language": "python",
   "name": "python3"
  },
  "language_info": {
   "codemirror_mode": {
    "name": "ipython",
    "version": 3
   },
   "file_extension": ".py",
   "mimetype": "text/x-python",
   "name": "python",
   "nbconvert_exporter": "python",
   "pygments_lexer": "ipython3",
   "version": "3.7.3"
  }
 },
 "nbformat": 4,
 "nbformat_minor": 2
}
