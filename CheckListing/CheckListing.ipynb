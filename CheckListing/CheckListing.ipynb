{
 "cells": [
  {
   "cell_type": "code",
   "execution_count": 5,
   "id": "sudden-market",
   "metadata": {},
   "outputs": [],
   "source": [
    "import pickle\n",
    "from checklist.editor import Editor\n",
    "from checklist.pred_wrapper import PredictorWrapper\n",
    "from checklist.test_suite import TestSuite\n",
    "from checklist.test_types import MFT\n",
    "import numpy as np"
   ]
  },
  {
   "cell_type": "code",
   "execution_count": 6,
   "id": "encouraging-mitchell",
   "metadata": {},
   "outputs": [],
   "source": [
    "with open('baseline_model.pickle', 'rb') as f:\n",
    "    model = pickle.load(f)"
   ]
  },
  {
   "cell_type": "code",
   "execution_count": 7,
   "id": "authorized-responsibility",
   "metadata": {},
   "outputs": [],
   "source": [
    "def predict_proba(inputs):\n",
    "    p = np.array([model.predict_proba([x]) for x in inputs]).reshape(-1, 2)\n",
    "    \n",
    "    return p\n",
    "wrapped_pp = PredictorWrapper.wrap_softmax(predict_proba)"
   ]
  },
  {
   "cell_type": "markdown",
   "id": "saving-algebra",
   "metadata": {},
   "source": [
    "## Capability: Vocabulary"
   ]
  },
  {
   "cell_type": "code",
   "execution_count": 32,
   "id": "regulated-bryan",
   "metadata": {},
   "outputs": [],
   "source": [
    "editor = Editor()\n",
    "suite = TestSuite()"
   ]
  },
  {
   "cell_type": "code",
   "execution_count": 33,
   "id": "transsexual-topic",
   "metadata": {},
   "outputs": [],
   "source": [
    "nouns = ['record', 'instrument', 'disk', 'sound', 'music', 'tune', 'artist', 'singer']\n",
    "editor.add_lexicon('nouns', nouns)\n",
    "pos_adj = ['amazing', 'incredible', 'extraordinary', 'excellent', 'awesome', 'nice']\n",
    "neg_adj = ['terrible', 'eerie', 'odd', 'awful', 'ugly', 'strange']\n",
    "editor.add_lexicon('pos_adj', pos_adj, overwrite=True)\n",
    "editor.add_lexicon('neg_adj', neg_adj, overwrite=True )"
   ]
  },
  {
   "cell_type": "code",
   "execution_count": 34,
   "id": "focused-direction",
   "metadata": {},
   "outputs": [],
   "source": [
    "pos_verb_present = ['like', 'enjoy', 'appreciate', 'love',  'recommend', 'admire', 'value', 'welcome']\n",
    "neg_verb_present = ['hate', 'dislike', 'regret',  'abhor', 'dread', 'despise']\n",
    "pos_verb_past = ['liked', 'enjoyed', 'appreciated', 'loved', 'admired', 'valued', 'welcomed']\n",
    "neg_verb_past = ['hated', 'disliked', 'regretted',  'abhorred', 'dreaded', 'despised']\n",
    "\n",
    "editor.add_lexicon('pos_verb_present', pos_verb_present, overwrite=True)\n",
    "editor.add_lexicon('neg_verb_present', neg_verb_present, overwrite=True)\n",
    "editor.add_lexicon('pos_verb_past', pos_verb_past, overwrite=True)\n",
    "editor.add_lexicon('neg_verb_past', neg_verb_past, overwrite=True)\n",
    "editor.add_lexicon('pos_verb', pos_verb_present+ pos_verb_past, overwrite=True)\n",
    "editor.add_lexicon('neg_verb', neg_verb_present + neg_verb_past, overwrite=True)"
   ]
  },
  {
   "cell_type": "code",
   "execution_count": 35,
   "id": "competitive-charles",
   "metadata": {},
   "outputs": [],
   "source": [
    "# Testing individual positive words\n",
    "test = MFT(pos_adj + pos_verb_present + pos_verb_past, labels=1) #1 == positive\n",
    "suite.add(test, 'single positive words', 'Vocabulary', '')\n",
    "# Testing individual negative words\n",
    "test = MFT(neg_adj + neg_verb_present + neg_verb_past, labels=0)\n",
    "suite.add(test, 'single negative words', 'Vocabulary', '')"
   ]
  },
  {
   "cell_type": "code",
   "execution_count": 36,
   "id": "careful-community",
   "metadata": {},
   "outputs": [],
   "source": [
    "# Testing words in context\n",
    "t = editor.template('{it} {nouns} {be} {pos_adj}.', it=['The', 'This', 'That'], be=['is', 'was'], labels=1, save=True)\n",
    "t += editor.template('{it} {be} {a:pos_adj} {nouns}.', it=['It', 'This', 'That'], be=['is', 'was'], labels=1, save=True)\n",
    "t += editor.template('{i} {pos_verb} {the} {nouns}.', i=['I', 'We'], the=['this', 'that', 'the'], labels=1, save=True)\n",
    "t += editor.template('{it} {nouns} {be} {neg_adj}.', it=['That', 'This', 'The'], be=['is', 'was'], labels=0, save=True)\n",
    "t += editor.template('{it} {be} {a:neg_adj} {nouns}.', it=['It', 'This', 'That'], be=['is', 'was'], labels=0, save=True)\n",
    "t += editor.template('{i} {neg_verb} {the} {nouns}.', i=['I', 'We'], the=['this', 'that', 'the'], labels=0, save=True)\n",
    "\n",
    "test = MFT(**t)\n",
    "suite.add(test, 'Sentiment-laden words in context', 'Vocabulary', \n",
    "          'Use positive and negative verbs and adjectives with music nouns such as artist, tune, instrument, etc. E.g. \"This was a bad cd\"')"
   ]
  },
  {
   "cell_type": "code",
   "execution_count": 37,
   "id": "introductory-pillow",
   "metadata": {},
   "outputs": [
    {
     "name": "stdout",
     "output_type": "stream",
     "text": [
      "Running single positive words\n",
      "Predicting 21 examples\n",
      "Running single negative words\n",
      "Predicting 18 examples\n",
      "Running Sentiment-laden words in context\n",
      "Predicting 2448 examples\n"
     ]
    }
   ],
   "source": [
    "suite.run(wrapped_pp, overwrite=True)"
   ]
  },
  {
   "cell_type": "code",
   "execution_count": 38,
   "id": "professional-think",
   "metadata": {},
   "outputs": [
    {
     "name": "stdout",
     "output_type": "stream",
     "text": [
      "Vocabulary\n",
      "\n",
      "single positive words\n",
      "Test cases:      21\n",
      "Fails (rate):    0 (0.0%)\n",
      "\n",
      "\n",
      "single negative words\n",
      "Test cases:      18\n",
      "Fails (rate):    3 (16.7%)\n",
      "\n",
      "Example fails:\n",
      "0.8 eerie\n",
      "----\n",
      "0.6 dread\n",
      "----\n",
      "0.7 regret\n",
      "----\n",
      "\n",
      "\n",
      "Sentiment-laden words in context\n",
      "Test cases:      2448\n",
      "Fails (rate):    440 (18.0%)\n",
      "\n",
      "Example fails:\n",
      "0.7 It was an eerie record.\n",
      "----\n",
      "0.7 That is an eerie record.\n",
      "----\n",
      "0.5 The artist was odd.\n",
      "----\n",
      "\n",
      "\n",
      "\n",
      "\n"
     ]
    }
   ],
   "source": [
    "suite.summary()"
   ]
  },
  {
   "cell_type": "markdown",
   "id": "exposed-vinyl",
   "metadata": {},
   "source": [
    "## Capability: Negation"
   ]
  },
  {
   "cell_type": "code",
   "execution_count": 39,
   "id": "progressive-annex",
   "metadata": {},
   "outputs": [],
   "source": [
    "pos = ['good', 'enjoyable', 'exciting', 'excellent', 'amazing', 'great', 'engaging']\n",
    "neg = ['bad', 'terrible', 'awful', 'horrible']"
   ]
  },
  {
   "cell_type": "code",
   "execution_count": 40,
   "id": "dirty-cancer",
   "metadata": {},
   "outputs": [],
   "source": [
    "ret = editor.template('This is not {a:pos} {mask}.', pos=pos, labels=0, save=True, nsamples=100)\n",
    "ret += editor.template('This is not {a:neg} {mask}.', neg=neg, labels=1, save=True, nsamples=100)\n",
    "\n",
    "test = MFT(**ret, name='Simple negation',\n",
    "           capability='Negation', description='Very simple negations.')"
   ]
  },
  {
   "cell_type": "code",
   "execution_count": 41,
   "id": "exceptional-difficulty",
   "metadata": {},
   "outputs": [
    {
     "name": "stdout",
     "output_type": "stream",
     "text": [
      "Predicting 200 examples\n"
     ]
    }
   ],
   "source": [
    "test.run(wrapped_pp, overwrite=True)"
   ]
  },
  {
   "cell_type": "code",
   "execution_count": 42,
   "id": "seeing-development",
   "metadata": {},
   "outputs": [
    {
     "name": "stdout",
     "output_type": "stream",
     "text": [
      "Test cases:      200\n",
      "Fails (rate):    178 (89.0%)\n",
      "\n",
      "Example fails:\n",
      "0.2 This is not a bad taste.\n",
      "----\n",
      "0.1 This is not a terrible experience.\n",
      "----\n",
      "0.3 This is not a bad letter.\n",
      "----\n"
     ]
    }
   ],
   "source": [
    "test.summary()"
   ]
  },
  {
   "cell_type": "markdown",
   "id": "junior-trial",
   "metadata": {},
   "source": [
    "## Capability: Temporal Awareness"
   ]
  },
  {
   "cell_type": "code",
   "execution_count": 43,
   "id": "numerous-nudist",
   "metadata": {},
   "outputs": [
    {
     "data": {
      "text/plain": [
       "['hate', 'dislike', 'regret', 'abhor', 'dread', 'despise']"
      ]
     },
     "execution_count": 43,
     "metadata": {},
     "output_type": "execute_result"
    }
   ],
   "source": [
    "suite = TestSuite()\n",
    "\n",
    "editor.add_lexicon('neg_verb_present', neg_verb_present, overwrite=True)\n",
    "editor.template('{neg_verb_present}').data"
   ]
  },
  {
   "cell_type": "code",
   "execution_count": 44,
   "id": "printable-ranch",
   "metadata": {},
   "outputs": [],
   "source": [
    "change = ['but', 'even though', 'although', '']\n",
    "t = editor.template(['I used to think this music was {neg_adj}, {change} now I think it is {pos_adj}.',\n",
    "                                 'I think this artist is {pos_adj}, {change} I used to think it was {neg_adj}.',\n",
    "                                 'In the past I thought this cd was {neg_adj}, {change} now I think it is {pos_adj}.',\n",
    "                                 'I think this album is {pos_adj}, {change} in the past I thought it was {neg_adj}.',\n",
    "                                ] ,\n",
    "                                 change=change, unroll=True, nsamples=500, save=True, labels=1)\n",
    "t += editor.template(['I used to {neg_verb_present} this music, {change} now I {pos_verb_present} it.',\n",
    "                                 'I {pos_verb_present} this album, {change} I used to {neg_verb_present} it.',\n",
    "                                 'In the past I would {neg_verb_present} this album, {change} now I {pos_verb} it.',\n",
    "                                 'I {pos_verb_present} this cd, {change} in the past I would {neg_verb_present} it.',\n",
    "                                ] ,\n",
    "                                change=change, unroll=True, nsamples=500, save=True, labels=1)\n",
    "t += editor.template(['I used to think this album was {pos_adj}, {change} now I think it is {neg_adj}.',\n",
    "                                 'I think this cd is {neg_adj}, {change} I used to think it was {pos_adj}.',\n",
    "                                 'In the past I thought this cd was {pos_adj}, {change} now I think it is {neg_adj}.',\n",
    "                                 'I think this tape is {neg_adj}, {change} in the past I thought it was {pos_adj}.',\n",
    "                                ] ,\n",
    "                                 change=change, unroll=True, nsamples=500, save=True, labels=0)\n",
    "t += editor.template(['I used to {pos_verb_present} this music, {change} now I {neg_verb_present} it.',\n",
    "                                 'I {neg_verb_present} this album, {change} I used to {pos_verb_present} it.',\n",
    "                                 'In the past I would {pos_verb_present} this cd, {change} now I {neg_verb_present} it.',\n",
    "                                 'I {neg_verb_present} this album, {change} in the past I would {pos_verb_present} it.',\n",
    "                                ] ,\n",
    "                                change=change, unroll=True, nsamples=500, save=True, labels=0)"
   ]
  },
  {
   "cell_type": "code",
   "execution_count": 45,
   "id": "developing-luxury",
   "metadata": {},
   "outputs": [],
   "source": [
    "test = MFT(**t)\n",
    "description = '''Have two conflicing statements, one about the past and one about the present.\n",
    "Expect the present to carry the sentiment. Examples:\n",
    "I used to love this airline, now I hate it -> should be negative\n",
    "I love this airline, although I used to hate it -> should be positive\n",
    "'''\n",
    "suite.add(test, 'used to, but now', 'Temporal', description)"
   ]
  },
  {
   "cell_type": "code",
   "execution_count": 46,
   "id": "banned-seeker",
   "metadata": {},
   "outputs": [
    {
     "name": "stdout",
     "output_type": "stream",
     "text": [
      "Running used to, but now\n",
      "Predicting 8000 examples\n"
     ]
    }
   ],
   "source": [
    "suite.run(wrapped_pp, overwrite=True)"
   ]
  },
  {
   "cell_type": "code",
   "execution_count": 47,
   "id": "complex-deputy",
   "metadata": {},
   "outputs": [
    {
     "name": "stdout",
     "output_type": "stream",
     "text": [
      "Temporal\n",
      "\n",
      "used to, but now\n",
      "Test cases:      8000\n",
      "Fails (rate):    3913 (48.9%)\n",
      "\n",
      "Example fails:\n",
      "0.7 I used to admire this music, although now I regret it.\n",
      "----\n",
      "0.3 I think this artist is nice,  I used to think it was awful.\n",
      "----\n",
      "0.6 I used to think this album was incredible, but now I think it is ugly.\n",
      "----\n",
      "\n",
      "\n",
      "\n",
      "\n"
     ]
    }
   ],
   "source": [
    "suite.summary()"
   ]
  },
  {
   "cell_type": "code",
   "execution_count": null,
   "id": "stylish-preserve",
   "metadata": {},
   "outputs": [],
   "source": []
  }
 ],
 "metadata": {
  "kernelspec": {
   "display_name": "CheckList",
   "language": "python",
   "name": "checklist"
  },
  "language_info": {
   "codemirror_mode": {
    "name": "ipython",
    "version": 3
   },
   "file_extension": ".py",
   "mimetype": "text/x-python",
   "name": "python",
   "nbconvert_exporter": "python",
   "pygments_lexer": "ipython3",
   "version": "3.6.1"
  }
 },
 "nbformat": 4,
 "nbformat_minor": 5
}
