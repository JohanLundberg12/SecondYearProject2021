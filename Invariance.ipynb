{
 "cells": [
  {
   "cell_type": "code",
   "execution_count": 1,
   "metadata": {},
   "outputs": [],
   "source": [
    "import numpy as np\n",
    "import pandas as pd\n",
    "from Load import json_to_df\n",
    "import pickle\n",
    "import re"
   ]
  },
  {
   "cell_type": "code",
   "execution_count": 2,
   "metadata": {},
   "outputs": [],
   "source": [
    "from checklist.editor import Editor\n",
    "from checklist.pred_wrapper import PredictorWrapper\n",
    "from checklist.perturb import Perturb\n",
    "from checklist.test_suite import TestSuite\n",
    "from checklist.test_types import INV"
   ]
  },
  {
   "cell_type": "code",
   "execution_count": 3,
   "metadata": {},
   "outputs": [],
   "source": [
    "with open('baseline_model.pickle', 'rb') as f:\n",
    "    model = pickle.load(f)\n",
    "    \n",
    "def predict_proba(inputs):\n",
    "    p = np.array([model.predict_proba([x]) for x in inputs]).reshape(-1, 2)\n",
    "    \n",
    "    return p\n",
    "wrapped_pp = PredictorWrapper.wrap_softmax(predict_proba)"
   ]
  },
  {
   "cell_type": "markdown",
   "metadata": {},
   "source": [
    "# Invariance, change positive adjectives"
   ]
  },
  {
   "cell_type": "code",
   "execution_count": 4,
   "metadata": {
    "scrolled": true
   },
   "outputs": [],
   "source": [
    "df = json_to_df(\"data\\\\music_reviews_train.json\")\n",
    "\n",
    "df = df.replace(np.nan, '', regex=True)\n",
    "\n",
    "#df['reviewText'] = df.reviewText + ' ' + df.summary\n",
    "\n",
    "data = list(df[df[\"sentiment\"] ==\"positive\"][\"reviewText\"])"
   ]
  },
  {
   "cell_type": "code",
   "execution_count": 5,
   "metadata": {},
   "outputs": [],
   "source": [
    "def change_pos_adjectives(x,meta=False, *args, **kwargs):\n",
    "    \n",
    "    pos_adjectives = [\"good\", \"nice\", \"amazing\", \"perfect\", \"exciting\", \"great\"]\n",
    "    ret = []\n",
    "    ret_meta = []\n",
    "    for p in pos_adjectives:\n",
    "        if re.search(r'\\b%s\\b' % p, x):\n",
    "            ret.extend([re.sub(r'\\b%s\\b' % p, p2, x) for p2 in pos_adjectives if p != p2])\n",
    "            ret_meta.extend([(p, p2) for p2 in pos_adjectives if p != p2])\n",
    "            \n",
    "    if meta:\n",
    "        return ret, ret_meta\n",
    "    else:\n",
    "        return ret"
   ]
  },
  {
   "cell_type": "code",
   "execution_count": 6,
   "metadata": {},
   "outputs": [],
   "source": [
    "ret= Perturb.perturb(data, change_pos_adjectives)"
   ]
  },
  {
   "cell_type": "code",
   "execution_count": 7,
   "metadata": {},
   "outputs": [],
   "source": [
    "test1 = INV(**ret, labels=1)"
   ]
  },
  {
   "cell_type": "code",
   "execution_count": 8,
   "metadata": {},
   "outputs": [
    {
     "name": "stdout",
     "output_type": "stream",
     "text": [
      "Predicting 121190 examples\n"
     ]
    }
   ],
   "source": [
    "test1.run(wrapped_pp)"
   ]
  },
  {
   "cell_type": "code",
   "execution_count": 9,
   "metadata": {
    "scrolled": false
   },
   "outputs": [
    {
     "name": "stdout",
     "output_type": "stream",
     "text": [
      "Test cases:      17740\n",
      "Fails (rate):    161 (0.9%)\n",
      "\n",
      "Example fails:\n",
      "0.4 Like that you can purchase just a single song instead of the whole album.  Already purchased another album which is good but when you only like one song this is the way to do it.\n",
      "0.5 Like that you can purchase just a single song instead of the whole album.  Already purchased another album which is perfect but when you only like one song this is the way to do it.\n",
      "0.5 Like that you can purchase just a single song instead of the whole album.  Already purchased another album which is amazing but when you only like one song this is the way to do it.\n",
      "\n",
      "----\n",
      "0.5 This album is amazing!!! The only track I didn't really care much for was \"A Dream That Cannot Be\" but the rest of the album is solid. I definitely recommend!\n",
      "0.4 This album is exciting!!! The only track I didn't really care much for was \"A Dream That Cannot Be\" but the rest of the album is solid. I definitely recommend!\n",
      "0.4 This album is good!!! The only track I didn't really care much for was \"A Dream That Cannot Be\" but the rest of the album is solid. I definitely recommend!\n",
      "\n",
      "----\n"
     ]
    }
   ],
   "source": [
    "test1.summary(n=2)"
   ]
  },
  {
   "cell_type": "markdown",
   "metadata": {},
   "source": [
    "# Invariance, change negative adjectives"
   ]
  },
  {
   "cell_type": "code",
   "execution_count": 10,
   "metadata": {},
   "outputs": [],
   "source": [
    "df = json_to_df(\"data\\\\music_reviews_train.json\")\n",
    "\n",
    "df = df.replace(np.nan, '', regex=True)\n",
    "\n",
    "#df['reviewText'] = df.reviewText + ' ' + df.summary\n",
    "\n",
    "data = list(df[df[\"sentiment\"] ==\"negative\"][\"reviewText\"])"
   ]
  },
  {
   "cell_type": "code",
   "execution_count": 11,
   "metadata": {},
   "outputs": [],
   "source": [
    "def change_neg_adjectives(x,meta=False, *args, **kwargs):\n",
    "    \n",
    "    neg_adjectives = [\"bad\",\"awful\",\"abhorrent\",\"annoying\",\"poor\",\"inferior\",\"dreadful\",\"nasty\",\"terrible\"]\n",
    "    ret = []\n",
    "    ret_meta = []\n",
    "    for p in neg_adjectives:\n",
    "        if re.search(r'\\b%s\\b' % p, x):\n",
    "            ret.extend([re.sub(r'\\b%s\\b' % p, p2, x) for p2 in neg_adjectives if p != p2])\n",
    "            ret_meta.extend([(p, p2) for p2 in neg_adjectives if p != p2])\n",
    "            \n",
    "    if meta:\n",
    "        return ret, ret_meta\n",
    "    else:\n",
    "        return ret"
   ]
  },
  {
   "cell_type": "code",
   "execution_count": 12,
   "metadata": {},
   "outputs": [],
   "source": [
    "ret= Perturb.perturb(data, change_neg_adjectives)"
   ]
  },
  {
   "cell_type": "code",
   "execution_count": 13,
   "metadata": {},
   "outputs": [],
   "source": [
    "test2 = INV(**ret, labels=0)"
   ]
  },
  {
   "cell_type": "code",
   "execution_count": 14,
   "metadata": {},
   "outputs": [
    {
     "name": "stdout",
     "output_type": "stream",
     "text": [
      "Predicting 55250 examples\n"
     ]
    }
   ],
   "source": [
    "test2.run(wrapped_pp)"
   ]
  },
  {
   "cell_type": "code",
   "execution_count": 15,
   "metadata": {},
   "outputs": [
    {
     "name": "stdout",
     "output_type": "stream",
     "text": [
      "Test cases:      5514\n",
      "Fails (rate):    161 (2.9%)\n",
      "\n",
      "Example fails:\n",
      "0.6 This is a very bad take-off on Ravel et al. It is a modern adaptation with heavy electric bass and long chords. Do not buy this.\n",
      "0.5 This is a very awful take-off on Ravel et al. It is a modern adaptation with heavy electric bass and long chords. Do not buy this.\n",
      "0.5 This is a very terrible take-off on Ravel et al. It is a modern adaptation with heavy electric bass and long chords. Do not buy this.\n",
      "\n",
      "----\n",
      "0.6 My daughter picked this song.  It is so bad.  These guys need to go away, far away.  The apocalypse is near.\n",
      "0.4 My daughter picked this song.  It is so awful.  These guys need to go away, far away.  The apocalypse is near.\n",
      "0.4 My daughter picked this song.  It is so terrible.  These guys need to go away, far away.  The apocalypse is near.\n",
      "\n",
      "----\n",
      "0.3 Just God awful.\n",
      "10/10\n",
      "0.6 Just God bad.\n",
      "10/10\n",
      "0.6 Just God abhorrent.\n",
      "10/10\n",
      "\n",
      "----\n"
     ]
    }
   ],
   "source": [
    "test2.summary()"
   ]
  },
  {
   "cell_type": "markdown",
   "metadata": {},
   "source": [
    "# Invariance, changing media format"
   ]
  },
  {
   "cell_type": "code",
   "execution_count": 17,
   "metadata": {},
   "outputs": [],
   "source": [
    "df = json_to_df(\"data\\\\music_reviews_train.json\")\n",
    "\n",
    "df = df.replace(np.nan, '', regex=True)\n",
    "\n",
    "#df['reviewText'] = df.reviewText + ' ' + df.summary\n",
    "\n",
    "data = list(df[\"reviewText\"])"
   ]
  },
  {
   "cell_type": "code",
   "execution_count": 20,
   "metadata": {},
   "outputs": [],
   "source": [
    "def change_media(x,meta=False, *args, **kwargs):\n",
    "    \n",
    "    media = [\"album\",\"cd\",\"song\",\"track\",\"mixtape\",\"cut\",\"tune\",\"melody\",\"ditty\",\"shanty\",\"anthem\",\"hymn\",\"carol\",\"ballad\"]\n",
    "    ret = []\n",
    "    ret_meta = []\n",
    "    for p in media:\n",
    "        if re.search(r'\\b%s\\b' % p, x):\n",
    "            ret.extend([re.sub(r'\\b%s\\b' % p, p2, x) for p2 in media if p != p2])\n",
    "            ret_meta.extend([(p, p2) for p2 in media if p != p2])\n",
    "            \n",
    "    if meta:\n",
    "        return ret, ret_meta\n",
    "    else:\n",
    "        return ret"
   ]
  },
  {
   "cell_type": "code",
   "execution_count": 21,
   "metadata": {},
   "outputs": [],
   "source": [
    "ret= Perturb.perturb(data, change_media)"
   ]
  },
  {
   "cell_type": "code",
   "execution_count": 22,
   "metadata": {},
   "outputs": [],
   "source": [
    "test3 = INV(**ret)"
   ]
  },
  {
   "cell_type": "code",
   "execution_count": 23,
   "metadata": {},
   "outputs": [
    {
     "name": "stdout",
     "output_type": "stream",
     "text": [
      "Predicting 810530 examples\n"
     ]
    }
   ],
   "source": [
    "test3.run(wrapped_pp)"
   ]
  },
  {
   "cell_type": "code",
   "execution_count": 24,
   "metadata": {},
   "outputs": [
    {
     "name": "stdout",
     "output_type": "stream",
     "text": [
      "Test cases:      47755\n",
      "Fails (rate):    2929 (6.1%)\n",
      "\n",
      "Example fails:\n",
      "0.4 Keyshia Cole has one of the best voices in R&B today. Unfortunately, the subject matter on this album is limited to juvenile love-drama, mainly orchestrated around break-ups, cheating, and circumspect relationships. Lyrically, she comes across far younger than her 31 years, relying far too much on slang and occasional vulgarity. It's hard to get past the first song, \"Enough of No Love\" where featured guest Lil' Wayne raps tastelessly with over-the-top curse words. I experienced a difficult time listening to the album once, with no interest in listening to it again. Hopefully, she will present a mature album her next time around.\n",
      "0.6 Keyshia Cole has one of the best voices in R&B today. Unfortunately, the subject matter on this ditty is limited to juvenile love-drama, mainly orchestrated around break-ups, cheating, and circumspect relationships. Lyrically, she comes across far younger than her 31 years, relying far too much on slang and occasional vulgarity. It's hard to get past the first song, \"Enough of No Love\" where featured guest Lil' Wayne raps tastelessly with over-the-top curse words. I experienced a difficult time listening to the ditty once, with no interest in listening to it again. Hopefully, she will present a mature ditty her next time around.\n",
      "0.5 Keyshia Cole has one of the best voices in R&B today. Unfortunately, the subject matter on this anthem is limited to juvenile love-drama, mainly orchestrated around break-ups, cheating, and circumspect relationships. Lyrically, she comes across far younger than her 31 years, relying far too much on slang and occasional vulgarity. It's hard to get past the first song, \"Enough of No Love\" where featured guest Lil' Wayne raps tastelessly with over-the-top curse words. I experienced a difficult time listening to the anthem once, with no interest in listening to it again. Hopefully, she will present a mature anthem her next time around.\n",
      "\n",
      "----\n",
      "0.4 The ending few seconds of the song are cut off.  When it's such a moving and emotionally powerful song, to cut it short is very irritating.\n",
      "0.7 The ending few seconds of the song are ditty off.  When it's such a moving and emotionally powerful song, to ditty it short is very irritating.\n",
      "0.7 The ending few seconds of the song are anthem off.  When it's such a moving and emotionally powerful song, to anthem it short is very irritating.\n",
      "\n",
      "----\n",
      "0.3 Never got the song. Disappointed\n",
      "0.6 Never got the ditty. Disappointed\n",
      "0.5 Never got the anthem. Disappointed\n",
      "\n",
      "----\n"
     ]
    }
   ],
   "source": [
    "test3.summary()"
   ]
  }
 ],
 "metadata": {
  "kernelspec": {
   "display_name": "Python 3",
   "language": "python",
   "name": "python3"
  },
  "language_info": {
   "codemirror_mode": {
    "name": "ipython",
    "version": 3
   },
   "file_extension": ".py",
   "mimetype": "text/x-python",
   "name": "python",
   "nbconvert_exporter": "python",
   "pygments_lexer": "ipython3",
   "version": "3.8.5"
  }
 },
 "nbformat": 4,
 "nbformat_minor": 4
}
