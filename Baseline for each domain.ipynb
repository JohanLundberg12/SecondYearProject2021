{
 "cells": [
  {
   "cell_type": "code",
   "execution_count": 2,
   "metadata": {},
   "outputs": [],
   "source": [
    "import gzip\n",
    "import json\n",
    "import pandas as pd\n",
    "from sklearn.pipeline import Pipeline\n",
    "from sklearn.base import BaseEstimator, TransformerMixin\n",
    "from sklearn.naive_bayes import GaussianNB, MultinomialNB ,BernoulliNB\n",
    "from Load import json_to_df\n",
    "import re\n",
    "import numpy as np\n",
    "from sklearn.feature_extraction.text import TfidfVectorizer, CountVectorizer\n",
    "from sklearn.metrics import f1_score\n",
    "from sklearn.metrics import confusion_matrix\n",
    "import pickle"
   ]
  },
  {
   "cell_type": "code",
   "execution_count": 3,
   "metadata": {},
   "outputs": [],
   "source": [
    "import seaborn as sns\n",
    "import matplotlib.pyplot as plt"
   ]
  },
  {
   "cell_type": "markdown",
   "metadata": {},
   "source": [
    "# Music"
   ]
  },
  {
   "cell_type": "markdown",
   "metadata": {},
   "source": [
    "## Data:"
   ]
  },
  {
   "cell_type": "code",
   "execution_count": 4,
   "metadata": {},
   "outputs": [],
   "source": [
    "df_music = pd.read_csv(\"data\\\\music_reviews(subset).csv\")"
   ]
  },
  {
   "cell_type": "markdown",
   "metadata": {},
   "source": [
    "## Preproccesing\n",
    "- using both the review and summary\n",
    "- making the targets (0,1)\n",
    "- dropping empty rows"
   ]
  },
  {
   "cell_type": "markdown",
   "metadata": {},
   "source": [
    "## Train set"
   ]
  },
  {
   "cell_type": "code",
   "execution_count": 5,
   "metadata": {},
   "outputs": [],
   "source": [
    "df_music = df_music.replace(np.nan, '', regex=True)\n",
    "df_music['review_headline'] = df_music.review_body + ' ' + df_music.review_headline\n",
    "data = df_music[[\"review_headline\",\"sentiment\"]]\n",
    "data = data.replace({\"sentiment\":{\"positive\":1,\"negative\":0}})"
   ]
  },
  {
   "cell_type": "markdown",
   "metadata": {},
   "source": [
    "## Validation set"
   ]
  },
  {
   "cell_type": "code",
   "execution_count": 6,
   "metadata": {},
   "outputs": [],
   "source": [
    "df_music_dev = pd.read_csv(\"data\\\\music_reviews_dev(subset).csv\")\n",
    "\n",
    "df_music_dev = df_music_dev.replace(np.nan, '', regex=True)\n",
    "df_music_dev['review_headline'] = df_music_dev.review_body + ' ' + df_music_dev.review_headline\n",
    "data_dev = df_music_dev[[\"review_headline\",\"sentiment\"]]\n",
    "data_dev = data_dev.replace({\"sentiment\":{\"positive\":1,\"negative\":0}})"
   ]
  },
  {
   "cell_type": "markdown",
   "metadata": {},
   "source": [
    "## Pipeline\n",
    "- words counts\n",
    "- naive bayes"
   ]
  },
  {
   "cell_type": "code",
   "execution_count": 7,
   "metadata": {},
   "outputs": [],
   "source": [
    "pipeline = Pipeline(steps=[\n",
    "    (\"TFIDFVectorizer_transform\",TfidfVectorizer()),\n",
    "    (\"MultinomialNB\", MultinomialNB())\n",
    "])"
   ]
  },
  {
   "cell_type": "code",
   "execution_count": 8,
   "metadata": {},
   "outputs": [
    {
     "data": {
      "text/plain": [
       "Pipeline(steps=[('TFIDFVectorizer_transform', TfidfVectorizer()),\n",
       "                ('MultinomialNB', MultinomialNB())])"
      ]
     },
     "execution_count": 8,
     "metadata": {},
     "output_type": "execute_result"
    }
   ],
   "source": [
    "pipeline.fit(data[\"review_headline\"],data[\"sentiment\"])"
   ]
  },
  {
   "cell_type": "markdown",
   "metadata": {},
   "source": [
    "## Validation\n",
    "Using f1 score to validate"
   ]
  },
  {
   "cell_type": "code",
   "execution_count": 9,
   "metadata": {},
   "outputs": [],
   "source": [
    "preds = pipeline.predict(data_dev[\"review_headline\"])"
   ]
  },
  {
   "cell_type": "code",
   "execution_count": 10,
   "metadata": {},
   "outputs": [
    {
     "data": {
      "text/plain": [
       "0.8679435130044109"
      ]
     },
     "execution_count": 10,
     "metadata": {},
     "output_type": "execute_result"
    }
   ],
   "source": [
    "f1_score(preds, data_dev[\"sentiment\"])"
   ]
  },
  {
   "cell_type": "code",
   "execution_count": 11,
   "metadata": {},
   "outputs": [
    {
     "data": {
      "image/png": "[encoded data removed]",
      "text/plain": [
       "<Figure size 432x288 with 2 Axes>"
      ]
     },
     "metadata": {
      "needs_background": "light"
     },
     "output_type": "display_data"
    }
   ],
   "source": [
    "mat = confusion_matrix(data_dev[\"sentiment\"], preds)\n",
    "sns.heatmap(mat.T, square = True, annot=True, fmt = \"d\",)\n",
    "plt.xlabel(\"true labels\")\n",
    "plt.ylabel(\"predicted label\")\n",
    "plt.show()"
   ]
  },
  {
   "cell_type": "markdown",
   "metadata": {},
   "source": [
    "### Testing the old model on the new data"
   ]
  },
  {
   "cell_type": "code",
   "execution_count": 13,
   "metadata": {},
   "outputs": [],
   "source": [
    "with open(\"models\\\\baseline_model.pickle\", \"rb\") as file:\n",
    "    model_music_org = pickle.load(file)"
   ]
  },
  {
   "cell_type": "code",
   "execution_count": 14,
   "metadata": {},
   "outputs": [],
   "source": [
    "preds = model_music_org.predict(data_dev[\"review_headline\"])"
   ]
  },
  {
   "cell_type": "code",
   "execution_count": 15,
   "metadata": {},
   "outputs": [
    {
     "data": {
      "text/plain": [
       "0.8648085820097482"
      ]
     },
     "execution_count": 15,
     "metadata": {},
     "output_type": "execute_result"
    }
   ],
   "source": [
    "f1_score(preds, data_dev[\"sentiment\"])"
   ]
  },
  {
   "cell_type": "code",
   "execution_count": 16,
   "metadata": {},
   "outputs": [
    {
     "data": {
      "image/png": "[encoded data removed]",
      "text/plain": [
       "<Figure size 432x288 with 2 Axes>"
      ]
     },
     "metadata": {
      "needs_background": "light"
     },
     "output_type": "display_data"
    }
   ],
   "source": [
    "mat = confusion_matrix(data_dev[\"sentiment\"], preds)\n",
    "sns.heatmap(mat.T, square = True, annot=True, fmt = \"d\",)\n",
    "plt.xlabel(\"true labels\")\n",
    "plt.ylabel(\"predicted label\")\n",
    "plt.show()"
   ]
  },
  {
   "cell_type": "markdown",
   "metadata": {},
   "source": [
    "## Write new model to file"
   ]
  },
  {
   "cell_type": "code",
   "execution_count": 12,
   "metadata": {},
   "outputs": [],
   "source": [
    "with open(\"baseline_model_music.pickle\", \"wb\") as file:\n",
    "    pickle.dump(pipeline, file)"
   ]
  },
  {
   "cell_type": "markdown",
   "metadata": {},
   "source": [
    "# Beauty\n",
    "## Data:"
   ]
  },
  {
   "cell_type": "code",
   "execution_count": 3,
   "metadata": {
    "scrolled": true
   },
   "outputs": [
    {
     "data": {
      "text/html": [
       "<div>\n",
       "<style scoped>\n",
       "    .dataframe tbody tr th:only-of-type {\n",
       "        vertical-align: middle;\n",
       "    }\n",
       "\n",
       "    .dataframe tbody tr th {\n",
       "        vertical-align: top;\n",
       "    }\n",
       "\n",
       "    .dataframe thead th {\n",
       "        text-align: right;\n",
       "    }\n",
       "</style>\n",
       "<table border=\"1\" class=\"dataframe\">\n",
       "  <thead>\n",
       "    <tr style=\"text-align: right;\">\n",
       "      <th></th>\n",
       "      <th>Unnamed: 0</th>\n",
       "      <th>marketplace</th>\n",
       "      <th>customer_id</th>\n",
       "      <th>review_id</th>\n",
       "      <th>product_id</th>\n",
       "      <th>product_parent</th>\n",
       "      <th>product_title</th>\n",
       "      <th>product_category</th>\n",
       "      <th>star_rating</th>\n",
       "      <th>helpful_votes</th>\n",
       "      <th>total_votes</th>\n",
       "      <th>vine</th>\n",
       "      <th>verified_purchase</th>\n",
       "      <th>review_headline</th>\n",
       "      <th>review_body</th>\n",
       "      <th>review_date</th>\n",
       "      <th>sentiment</th>\n",
       "    </tr>\n",
       "  </thead>\n",
       "  <tbody>\n",
       "    <tr>\n",
       "      <th>0</th>\n",
       "      <td>0</td>\n",
       "      <td>US</td>\n",
       "      <td>25245446</td>\n",
       "      <td>R1VTEU1P0T413X</td>\n",
       "      <td>B004NHVTZQ</td>\n",
       "      <td>417544650</td>\n",
       "      <td>Royale E038 Classic 1.5 Inch Black Flat Iron</td>\n",
       "      <td>Beauty</td>\n",
       "      <td>4</td>\n",
       "      <td>0</td>\n",
       "      <td>0</td>\n",
       "      <td>N</td>\n",
       "      <td>N</td>\n",
       "      <td>Great flat iron.</td>\n",
       "      <td>Great flat iron unfortunately I bought this at...</td>\n",
       "      <td>2014-12-10</td>\n",
       "      <td>positive</td>\n",
       "    </tr>\n",
       "    <tr>\n",
       "      <th>1</th>\n",
       "      <td>1</td>\n",
       "      <td>US</td>\n",
       "      <td>41673718</td>\n",
       "      <td>R1FQJ6NOXV3ESI</td>\n",
       "      <td>B00GBYNAJM</td>\n",
       "      <td>382525561</td>\n",
       "      <td>Sexy Red Lingerie Sequin Heart Tassel Breast B...</td>\n",
       "      <td>Beauty</td>\n",
       "      <td>5</td>\n",
       "      <td>0</td>\n",
       "      <td>0</td>\n",
       "      <td>N</td>\n",
       "      <td>Y</td>\n",
       "      <td>Super cute! I received a different pair that h...</td>\n",
       "      <td>Super cute! I received a different pair that h...</td>\n",
       "      <td>2015-04-08</td>\n",
       "      <td>positive</td>\n",
       "    </tr>\n",
       "    <tr>\n",
       "      <th>2</th>\n",
       "      <td>2</td>\n",
       "      <td>US</td>\n",
       "      <td>41448631</td>\n",
       "      <td>RPHARNZ4IXL8D</td>\n",
       "      <td>B006GU1B5Q</td>\n",
       "      <td>283496396</td>\n",
       "      <td>Iso Beauty Ceramic Pro Flat Iron Straightener ...</td>\n",
       "      <td>Beauty</td>\n",
       "      <td>5</td>\n",
       "      <td>2</td>\n",
       "      <td>2</td>\n",
       "      <td>N</td>\n",
       "      <td>Y</td>\n",
       "      <td>Great product</td>\n",
       "      <td>Good quality straightener. It gets super hot a...</td>\n",
       "      <td>2013-11-09</td>\n",
       "      <td>positive</td>\n",
       "    </tr>\n",
       "    <tr>\n",
       "      <th>3</th>\n",
       "      <td>3</td>\n",
       "      <td>US</td>\n",
       "      <td>45153186</td>\n",
       "      <td>R1NMN4RANL21D2</td>\n",
       "      <td>B00J6SW13Q</td>\n",
       "      <td>332394087</td>\n",
       "      <td>SEPHORA COLLECTION Together in Pink Brush Set ...</td>\n",
       "      <td>Beauty</td>\n",
       "      <td>1</td>\n",
       "      <td>0</td>\n",
       "      <td>2</td>\n",
       "      <td>N</td>\n",
       "      <td>Y</td>\n",
       "      <td>One Star</td>\n",
       "      <td>Actually，I have got a book,wasn't this Pink Br...</td>\n",
       "      <td>2014-12-14</td>\n",
       "      <td>negative</td>\n",
       "    </tr>\n",
       "    <tr>\n",
       "      <th>4</th>\n",
       "      <td>4</td>\n",
       "      <td>US</td>\n",
       "      <td>44124985</td>\n",
       "      <td>RRSUKHUHPKVS9</td>\n",
       "      <td>B000ELYIVM</td>\n",
       "      <td>413825976</td>\n",
       "      <td>Dental Hygiene Preferred Complete  Day/Night M...</td>\n",
       "      <td>Beauty</td>\n",
       "      <td>5</td>\n",
       "      <td>0</td>\n",
       "      <td>1</td>\n",
       "      <td>N</td>\n",
       "      <td>Y</td>\n",
       "      <td>Good cheap mouthguard(s)</td>\n",
       "      <td>These are good and durable. Comes with 2 to ge...</td>\n",
       "      <td>2010-12-30</td>\n",
       "      <td>positive</td>\n",
       "    </tr>\n",
       "    <tr>\n",
       "      <th>...</th>\n",
       "      <td>...</td>\n",
       "      <td>...</td>\n",
       "      <td>...</td>\n",
       "      <td>...</td>\n",
       "      <td>...</td>\n",
       "      <td>...</td>\n",
       "      <td>...</td>\n",
       "      <td>...</td>\n",
       "      <td>...</td>\n",
       "      <td>...</td>\n",
       "      <td>...</td>\n",
       "      <td>...</td>\n",
       "      <td>...</td>\n",
       "      <td>...</td>\n",
       "      <td>...</td>\n",
       "      <td>...</td>\n",
       "      <td>...</td>\n",
       "    </tr>\n",
       "    <tr>\n",
       "      <th>1081376</th>\n",
       "      <td>1081376</td>\n",
       "      <td>US</td>\n",
       "      <td>15443038</td>\n",
       "      <td>R2TQLKQ5TYSBRX</td>\n",
       "      <td>B00158O1EM</td>\n",
       "      <td>897391812</td>\n",
       "      <td>Norelco 7735X Cool Skin Additive In/Out of Sho...</td>\n",
       "      <td>Beauty</td>\n",
       "      <td>5</td>\n",
       "      <td>3</td>\n",
       "      <td>3</td>\n",
       "      <td>N</td>\n",
       "      <td>N</td>\n",
       "      <td>Cool Face Saver</td>\n",
       "      <td>I was hesitant that this would work well. As a...</td>\n",
       "      <td>2009-01-25</td>\n",
       "      <td>positive</td>\n",
       "    </tr>\n",
       "    <tr>\n",
       "      <th>1081377</th>\n",
       "      <td>1081377</td>\n",
       "      <td>US</td>\n",
       "      <td>20640811</td>\n",
       "      <td>RETGMD5GBUJ6W</td>\n",
       "      <td>B0028RBNYK</td>\n",
       "      <td>107073507</td>\n",
       "      <td>Century Shampoo Scalp Massage Brush #100 * Blu...</td>\n",
       "      <td>Beauty</td>\n",
       "      <td>5</td>\n",
       "      <td>0</td>\n",
       "      <td>0</td>\n",
       "      <td>N</td>\n",
       "      <td>Y</td>\n",
       "      <td>Great product!</td>\n",
       "      <td>These are fantastic. They work well, feel real...</td>\n",
       "      <td>2011-06-15</td>\n",
       "      <td>positive</td>\n",
       "    </tr>\n",
       "    <tr>\n",
       "      <th>1081378</th>\n",
       "      <td>1081378</td>\n",
       "      <td>US</td>\n",
       "      <td>18061495</td>\n",
       "      <td>R34N7UHVVTUBKO</td>\n",
       "      <td>B002FGKPWK</td>\n",
       "      <td>272867906</td>\n",
       "      <td>The Body Shop Exfoliating Skin Towel</td>\n",
       "      <td>Beauty</td>\n",
       "      <td>2</td>\n",
       "      <td>1</td>\n",
       "      <td>1</td>\n",
       "      <td>N</td>\n",
       "      <td>Y</td>\n",
       "      <td>Doesn't last long</td>\n",
       "      <td>Started coming apart at the seams after a coup...</td>\n",
       "      <td>2014-02-12</td>\n",
       "      <td>negative</td>\n",
       "    </tr>\n",
       "    <tr>\n",
       "      <th>1081379</th>\n",
       "      <td>1081379</td>\n",
       "      <td>US</td>\n",
       "      <td>8616203</td>\n",
       "      <td>R1ZTY1W7AMNBP8</td>\n",
       "      <td>B003983I1S</td>\n",
       "      <td>555191963</td>\n",
       "      <td>Gillette Fusion5 ProGlide Men's Razor Blades R...</td>\n",
       "      <td>Beauty</td>\n",
       "      <td>5</td>\n",
       "      <td>0</td>\n",
       "      <td>0</td>\n",
       "      <td>N</td>\n",
       "      <td>N</td>\n",
       "      <td>Closest Shave</td>\n",
       "      <td>I recently was able to try out the new ProGlid...</td>\n",
       "      <td>2013-06-28</td>\n",
       "      <td>positive</td>\n",
       "    </tr>\n",
       "    <tr>\n",
       "      <th>1081380</th>\n",
       "      <td>1081380</td>\n",
       "      <td>US</td>\n",
       "      <td>14702746</td>\n",
       "      <td>R28LKYE7A2K8S9</td>\n",
       "      <td>B0071HIDLS</td>\n",
       "      <td>188217325</td>\n",
       "      <td>ACURE Leave-In Conditioner, 3 Ounce</td>\n",
       "      <td>Beauty</td>\n",
       "      <td>1</td>\n",
       "      <td>2</td>\n",
       "      <td>5</td>\n",
       "      <td>N</td>\n",
       "      <td>Y</td>\n",
       "      <td>One Star</td>\n",
       "      <td>I HATED this stuff. Made my hair feel like str...</td>\n",
       "      <td>2014-07-15</td>\n",
       "      <td>negative</td>\n",
       "    </tr>\n",
       "  </tbody>\n",
       "</table>\n",
       "<p>1081381 rows × 17 columns</p>\n",
       "</div>"
      ],
      "text/plain": [
       "         Unnamed: 0 marketplace  customer_id       review_id  product_id  \\\n",
       "0                 0          US     25245446  R1VTEU1P0T413X  B004NHVTZQ   \n",
       "1                 1          US     41673718  R1FQJ6NOXV3ESI  B00GBYNAJM   \n",
       "2                 2          US     41448631   RPHARNZ4IXL8D  B006GU1B5Q   \n",
       "3                 3          US     45153186  R1NMN4RANL21D2  B00J6SW13Q   \n",
       "4                 4          US     44124985   RRSUKHUHPKVS9  B000ELYIVM   \n",
       "...             ...         ...          ...             ...         ...   \n",
       "1081376     1081376          US     15443038  R2TQLKQ5TYSBRX  B00158O1EM   \n",
       "1081377     1081377          US     20640811   RETGMD5GBUJ6W  B0028RBNYK   \n",
       "1081378     1081378          US     18061495  R34N7UHVVTUBKO  B002FGKPWK   \n",
       "1081379     1081379          US      8616203  R1ZTY1W7AMNBP8  B003983I1S   \n",
       "1081380     1081380          US     14702746  R28LKYE7A2K8S9  B0071HIDLS   \n",
       "\n",
       "         product_parent                                      product_title  \\\n",
       "0             417544650       Royale E038 Classic 1.5 Inch Black Flat Iron   \n",
       "1             382525561  Sexy Red Lingerie Sequin Heart Tassel Breast B...   \n",
       "2             283496396  Iso Beauty Ceramic Pro Flat Iron Straightener ...   \n",
       "3             332394087  SEPHORA COLLECTION Together in Pink Brush Set ...   \n",
       "4             413825976  Dental Hygiene Preferred Complete  Day/Night M...   \n",
       "...                 ...                                                ...   \n",
       "1081376       897391812  Norelco 7735X Cool Skin Additive In/Out of Sho...   \n",
       "1081377       107073507  Century Shampoo Scalp Massage Brush #100 * Blu...   \n",
       "1081378       272867906               The Body Shop Exfoliating Skin Towel   \n",
       "1081379       555191963  Gillette Fusion5 ProGlide Men's Razor Blades R...   \n",
       "1081380       188217325                ACURE Leave-In Conditioner, 3 Ounce   \n",
       "\n",
       "        product_category  star_rating  helpful_votes  total_votes vine  \\\n",
       "0                 Beauty            4              0            0    N   \n",
       "1                 Beauty            5              0            0    N   \n",
       "2                 Beauty            5              2            2    N   \n",
       "3                 Beauty            1              0            2    N   \n",
       "4                 Beauty            5              0            1    N   \n",
       "...                  ...          ...            ...          ...  ...   \n",
       "1081376           Beauty            5              3            3    N   \n",
       "1081377           Beauty            5              0            0    N   \n",
       "1081378           Beauty            2              1            1    N   \n",
       "1081379           Beauty            5              0            0    N   \n",
       "1081380           Beauty            1              2            5    N   \n",
       "\n",
       "        verified_purchase                                    review_headline  \\\n",
       "0                       N                                   Great flat iron.   \n",
       "1                       Y  Super cute! I received a different pair that h...   \n",
       "2                       Y                                      Great product   \n",
       "3                       Y                                           One Star   \n",
       "4                       Y                           Good cheap mouthguard(s)   \n",
       "...                   ...                                                ...   \n",
       "1081376                 N                                    Cool Face Saver   \n",
       "1081377                 Y                                     Great product!   \n",
       "1081378                 Y                                  Doesn't last long   \n",
       "1081379                 N                                      Closest Shave   \n",
       "1081380                 Y                                           One Star   \n",
       "\n",
       "                                               review_body review_date  \\\n",
       "0        Great flat iron unfortunately I bought this at...  2014-12-10   \n",
       "1        Super cute! I received a different pair that h...  2015-04-08   \n",
       "2        Good quality straightener. It gets super hot a...  2013-11-09   \n",
       "3        Actually，I have got a book,wasn't this Pink Br...  2014-12-14   \n",
       "4        These are good and durable. Comes with 2 to ge...  2010-12-30   \n",
       "...                                                    ...         ...   \n",
       "1081376  I was hesitant that this would work well. As a...  2009-01-25   \n",
       "1081377  These are fantastic. They work well, feel real...  2011-06-15   \n",
       "1081378  Started coming apart at the seams after a coup...  2014-02-12   \n",
       "1081379  I recently was able to try out the new ProGlid...  2013-06-28   \n",
       "1081380  I HATED this stuff. Made my hair feel like str...  2014-07-15   \n",
       "\n",
       "        sentiment  \n",
       "0        positive  \n",
       "1        positive  \n",
       "2        positive  \n",
       "3        negative  \n",
       "4        positive  \n",
       "...           ...  \n",
       "1081376  positive  \n",
       "1081377  positive  \n",
       "1081378  negative  \n",
       "1081379  positive  \n",
       "1081380  negative  \n",
       "\n",
       "[1081381 rows x 17 columns]"
      ]
     },
     "execution_count": 3,
     "metadata": {},
     "output_type": "execute_result"
    }
   ],
   "source": [
    "df_beauty = pd.read_csv(\"data\\\\beauty_reviews(subset).csv\")\n",
    "df_beauty"
   ]
  },
  {
   "cell_type": "markdown",
   "metadata": {},
   "source": [
    "## Preproccesing\n",
    "- using both the review and summary\n",
    "- making the targets (0,1)\n",
    "- dropping empty rows"
   ]
  },
  {
   "cell_type": "markdown",
   "metadata": {},
   "source": [
    "## Train set"
   ]
  },
  {
   "cell_type": "code",
   "execution_count": 4,
   "metadata": {},
   "outputs": [],
   "source": [
    "df_beauty = df_beauty.replace(np.nan, '', regex=True)\n",
    "df_beauty['review_headline'] = df_beauty.review_body + ' ' + df_beauty.review_headline\n",
    "data = df_beauty[[\"review_headline\",\"sentiment\"]]\n",
    "data = data.replace({\"sentiment\":{\"positive\":1,\"negative\":0}})"
   ]
  },
  {
   "cell_type": "markdown",
   "metadata": {},
   "source": [
    "## Validation set"
   ]
  },
  {
   "cell_type": "code",
   "execution_count": 6,
   "metadata": {},
   "outputs": [],
   "source": [
    "df_beauty_dev = pd.read_csv(\"data\\\\beauty_reviews_dev(subset).csv\")\n",
    "\n",
    "df_beauty_dev = df_beauty_dev.replace(np.nan, '', regex=True)\n",
    "df_beauty_dev['review_headline'] = df_beauty_dev.review_body + ' ' + df_beauty_dev.review_headline\n",
    "data_dev = df_beauty_dev[[\"review_headline\",\"sentiment\"]]\n",
    "data_dev = data_dev.replace({\"sentiment\":{\"positive\":1,\"negative\":0}})"
   ]
  },
  {
   "cell_type": "markdown",
   "metadata": {},
   "source": [
    "## Pipeline\n",
    "- words counts\n",
    "- naive bayes"
   ]
  },
  {
   "cell_type": "code",
   "execution_count": 7,
   "metadata": {},
   "outputs": [],
   "source": [
    "pipeline = Pipeline(steps=[\n",
    "    (\"TFIDFVectorizer_transform\",TfidfVectorizer()),\n",
    "    (\"MultinomialNB\", MultinomialNB())\n",
    "])"
   ]
  },
  {
   "cell_type": "code",
   "execution_count": 8,
   "metadata": {},
   "outputs": [
    {
     "data": {
      "text/plain": [
       "Pipeline(steps=[('TFIDFVectorizer_transform', TfidfVectorizer()),\n",
       "                ('MultinomialNB', MultinomialNB())])"
      ]
     },
     "execution_count": 8,
     "metadata": {},
     "output_type": "execute_result"
    }
   ],
   "source": [
    "pipeline.fit(data[\"review_headline\"],data[\"sentiment\"])"
   ]
  },
  {
   "cell_type": "markdown",
   "metadata": {},
   "source": [
    "## Validation\n",
    "Using f1 score to validate"
   ]
  },
  {
   "cell_type": "code",
   "execution_count": 9,
   "metadata": {},
   "outputs": [],
   "source": [
    "preds = pipeline.predict(data_dev[\"review_headline\"])"
   ]
  },
  {
   "cell_type": "code",
   "execution_count": 10,
   "metadata": {},
   "outputs": [
    {
     "data": {
      "text/plain": [
       "0.9078595917998173"
      ]
     },
     "execution_count": 10,
     "metadata": {},
     "output_type": "execute_result"
    }
   ],
   "source": [
    "f1_score(preds, data_dev[\"sentiment\"])"
   ]
  },
  {
   "cell_type": "code",
   "execution_count": 11,
   "metadata": {},
   "outputs": [
    {
     "data": {
      "image/png": "[encoded data removed]",
      "text/plain": [
       "<Figure size 432x288 with 2 Axes>"
      ]
     },
     "metadata": {
      "needs_background": "light"
     },
     "output_type": "display_data"
    }
   ],
   "source": [
    "mat = confusion_matrix(data_dev[\"sentiment\"], preds)\n",
    "sns.heatmap(mat.T, square = True, annot=True, fmt = \"d\",)\n",
    "plt.xlabel(\"true labels\")\n",
    "plt.ylabel(\"predicted label\")\n",
    "plt.show()"
   ]
  },
  {
   "cell_type": "markdown",
   "metadata": {},
   "source": [
    "## Write model to file"
   ]
  },
  {
   "cell_type": "code",
   "execution_count": 18,
   "metadata": {},
   "outputs": [],
   "source": [
    "with open(\"baseline_model_beauty.pickle\", \"wb\") as file:\n",
    "    pickle.dump(pipeline, file)"
   ]
  },
  {
   "cell_type": "markdown",
   "metadata": {},
   "source": [
    "# Sports\n",
    "## Data:"
   ]
  },
  {
   "cell_type": "code",
   "execution_count": 19,
   "metadata": {
    "scrolled": true
   },
   "outputs": [
    {
     "data": {
      "text/html": [
       "<div>\n",
       "<style scoped>\n",
       "    .dataframe tbody tr th:only-of-type {\n",
       "        vertical-align: middle;\n",
       "    }\n",
       "\n",
       "    .dataframe tbody tr th {\n",
       "        vertical-align: top;\n",
       "    }\n",
       "\n",
       "    .dataframe thead th {\n",
       "        text-align: right;\n",
       "    }\n",
       "</style>\n",
       "<table border=\"1\" class=\"dataframe\">\n",
       "  <thead>\n",
       "    <tr style=\"text-align: right;\">\n",
       "      <th></th>\n",
       "      <th>Unnamed: 0</th>\n",
       "      <th>marketplace</th>\n",
       "      <th>customer_id</th>\n",
       "      <th>review_id</th>\n",
       "      <th>product_id</th>\n",
       "      <th>product_parent</th>\n",
       "      <th>product_title</th>\n",
       "      <th>product_category</th>\n",
       "      <th>star_rating</th>\n",
       "      <th>helpful_votes</th>\n",
       "      <th>total_votes</th>\n",
       "      <th>vine</th>\n",
       "      <th>verified_purchase</th>\n",
       "      <th>review_headline</th>\n",
       "      <th>review_body</th>\n",
       "      <th>review_date</th>\n",
       "      <th>sentiment</th>\n",
       "    </tr>\n",
       "  </thead>\n",
       "  <tbody>\n",
       "    <tr>\n",
       "      <th>0</th>\n",
       "      <td>0</td>\n",
       "      <td>US</td>\n",
       "      <td>50252441</td>\n",
       "      <td>R6TAXL600Q7HM</td>\n",
       "      <td>B003BYKJH6</td>\n",
       "      <td>477541264</td>\n",
       "      <td>Organized Fishing Regular Sized Rubber Replace...</td>\n",
       "      <td>Sports</td>\n",
       "      <td>2</td>\n",
       "      <td>0</td>\n",
       "      <td>0</td>\n",
       "      <td>N</td>\n",
       "      <td>Y</td>\n",
       "      <td>Two Stars</td>\n",
       "      <td>Rubber is too soft and will not hold rods secu...</td>\n",
       "      <td>2014-10-12</td>\n",
       "      <td>negative</td>\n",
       "    </tr>\n",
       "    <tr>\n",
       "      <th>1</th>\n",
       "      <td>1</td>\n",
       "      <td>US</td>\n",
       "      <td>33797792</td>\n",
       "      <td>R2I8433XLIGLC4</td>\n",
       "      <td>B0055DNHLQ</td>\n",
       "      <td>265512225</td>\n",
       "      <td>MLB Boston Red Sox Carl Crawford Signature Ser...</td>\n",
       "      <td>Sports</td>\n",
       "      <td>1</td>\n",
       "      <td>1</td>\n",
       "      <td>1</td>\n",
       "      <td>N</td>\n",
       "      <td>N</td>\n",
       "      <td>they should've showed me the back</td>\n",
       "      <td>I assumed the back just had a number or was pl...</td>\n",
       "      <td>2014-06-19</td>\n",
       "      <td>negative</td>\n",
       "    </tr>\n",
       "    <tr>\n",
       "      <th>2</th>\n",
       "      <td>2</td>\n",
       "      <td>US</td>\n",
       "      <td>948790</td>\n",
       "      <td>RXAODS7YI7F5F</td>\n",
       "      <td>B00MG1VQ4A</td>\n",
       "      <td>30042226</td>\n",
       "      <td>Nike Men's Mercurial Victory IV FG Soccer Shoe</td>\n",
       "      <td>Sports</td>\n",
       "      <td>5</td>\n",
       "      <td>0</td>\n",
       "      <td>0</td>\n",
       "      <td>N</td>\n",
       "      <td>Y</td>\n",
       "      <td>Five Stars</td>\n",
       "      <td>Amazing</td>\n",
       "      <td>2015-06-07</td>\n",
       "      <td>positive</td>\n",
       "    </tr>\n",
       "    <tr>\n",
       "      <th>3</th>\n",
       "      <td>3</td>\n",
       "      <td>US</td>\n",
       "      <td>13064212</td>\n",
       "      <td>R22UO05PUKW6R6</td>\n",
       "      <td>B001AGP3FK</td>\n",
       "      <td>490903426</td>\n",
       "      <td>Men's Nike Feather Light Cap, Black</td>\n",
       "      <td>Sports</td>\n",
       "      <td>2</td>\n",
       "      <td>2</td>\n",
       "      <td>3</td>\n",
       "      <td>N</td>\n",
       "      <td>Y</td>\n",
       "      <td>fit too large for average male</td>\n",
       "      <td>the hat is humongous unless you got watermelon...</td>\n",
       "      <td>2014-05-05</td>\n",
       "      <td>negative</td>\n",
       "    </tr>\n",
       "    <tr>\n",
       "      <th>4</th>\n",
       "      <td>4</td>\n",
       "      <td>US</td>\n",
       "      <td>28760389</td>\n",
       "      <td>R3KBFYWQ1KJ7A4</td>\n",
       "      <td>B00162PWI6</td>\n",
       "      <td>234218806</td>\n",
       "      <td>Lee Precision 308 Win Loader</td>\n",
       "      <td>Sports</td>\n",
       "      <td>5</td>\n",
       "      <td>1</td>\n",
       "      <td>1</td>\n",
       "      <td>N</td>\n",
       "      <td>Y</td>\n",
       "      <td>Love the classics</td>\n",
       "      <td>If you know Lee products, and you just want to...</td>\n",
       "      <td>2014-04-26</td>\n",
       "      <td>positive</td>\n",
       "    </tr>\n",
       "    <tr>\n",
       "      <th>...</th>\n",
       "      <td>...</td>\n",
       "      <td>...</td>\n",
       "      <td>...</td>\n",
       "      <td>...</td>\n",
       "      <td>...</td>\n",
       "      <td>...</td>\n",
       "      <td>...</td>\n",
       "      <td>...</td>\n",
       "      <td>...</td>\n",
       "      <td>...</td>\n",
       "      <td>...</td>\n",
       "      <td>...</td>\n",
       "      <td>...</td>\n",
       "      <td>...</td>\n",
       "      <td>...</td>\n",
       "      <td>...</td>\n",
       "      <td>...</td>\n",
       "    </tr>\n",
       "    <tr>\n",
       "      <th>888547</th>\n",
       "      <td>888547</td>\n",
       "      <td>US</td>\n",
       "      <td>49397927</td>\n",
       "      <td>R10ZA0US8S23ZH</td>\n",
       "      <td>B00RPZJ7HU</td>\n",
       "      <td>886866209</td>\n",
       "      <td>SNIPER® Rear Sight with Elevation Adjustable P...</td>\n",
       "      <td>Sports</td>\n",
       "      <td>5</td>\n",
       "      <td>0</td>\n",
       "      <td>0</td>\n",
       "      <td>N</td>\n",
       "      <td>Y</td>\n",
       "      <td>Nice</td>\n",
       "      <td>Good quality piece. Fit my gun good and the si...</td>\n",
       "      <td>2015-08-14</td>\n",
       "      <td>positive</td>\n",
       "    </tr>\n",
       "    <tr>\n",
       "      <th>888548</th>\n",
       "      <td>888548</td>\n",
       "      <td>US</td>\n",
       "      <td>29803250</td>\n",
       "      <td>R9MZ4RTFXJR9V</td>\n",
       "      <td>B001RMUOKG</td>\n",
       "      <td>567842073</td>\n",
       "      <td>Barnett Outdoors Junior Archery 28-Inch Arrows...</td>\n",
       "      <td>Sports</td>\n",
       "      <td>1</td>\n",
       "      <td>0</td>\n",
       "      <td>0</td>\n",
       "      <td>N</td>\n",
       "      <td>Y</td>\n",
       "      <td>Terrible</td>\n",
       "      <td>Really bad, even for cheap youth bows.</td>\n",
       "      <td>2015-06-09</td>\n",
       "      <td>negative</td>\n",
       "    </tr>\n",
       "    <tr>\n",
       "      <th>888549</th>\n",
       "      <td>888549</td>\n",
       "      <td>US</td>\n",
       "      <td>48027112</td>\n",
       "      <td>R8M5RI5Z2HFBS</td>\n",
       "      <td>B00030A4AS</td>\n",
       "      <td>58599184</td>\n",
       "      <td>Mustad 3366 Classic Sproat Large Ring Hook (10...</td>\n",
       "      <td>Sports</td>\n",
       "      <td>1</td>\n",
       "      <td>0</td>\n",
       "      <td>5</td>\n",
       "      <td>N</td>\n",
       "      <td>Y</td>\n",
       "      <td>small.</td>\n",
       "      <td>small. too small</td>\n",
       "      <td>2015-02-08</td>\n",
       "      <td>negative</td>\n",
       "    </tr>\n",
       "    <tr>\n",
       "      <th>888550</th>\n",
       "      <td>888550</td>\n",
       "      <td>US</td>\n",
       "      <td>26343792</td>\n",
       "      <td>RQZ0KYJFR13UD</td>\n",
       "      <td>B001O0D6QA</td>\n",
       "      <td>104661074</td>\n",
       "      <td>Attwood 9065-1 Battery Box Standard</td>\n",
       "      <td>Sports</td>\n",
       "      <td>5</td>\n",
       "      <td>0</td>\n",
       "      <td>0</td>\n",
       "      <td>N</td>\n",
       "      <td>Y</td>\n",
       "      <td>Its a box</td>\n",
       "      <td>Ordered this battery box because the previous ...</td>\n",
       "      <td>2012-12-11</td>\n",
       "      <td>positive</td>\n",
       "    </tr>\n",
       "    <tr>\n",
       "      <th>888551</th>\n",
       "      <td>888551</td>\n",
       "      <td>US</td>\n",
       "      <td>11309677</td>\n",
       "      <td>RZJIE9Y8XY7ER</td>\n",
       "      <td>B00F1P20S4</td>\n",
       "      <td>608816060</td>\n",
       "      <td>Ar500 Metal Targets</td>\n",
       "      <td>Sports</td>\n",
       "      <td>5</td>\n",
       "      <td>0</td>\n",
       "      <td>0</td>\n",
       "      <td>N</td>\n",
       "      <td>Y</td>\n",
       "      <td>Works great</td>\n",
       "      <td>Very good product I bought a 3,4 and 6 inch ha...</td>\n",
       "      <td>2014-05-27</td>\n",
       "      <td>positive</td>\n",
       "    </tr>\n",
       "  </tbody>\n",
       "</table>\n",
       "<p>888552 rows × 17 columns</p>\n",
       "</div>"
      ],
      "text/plain": [
       "        Unnamed: 0 marketplace  customer_id       review_id  product_id  \\\n",
       "0                0          US     50252441   R6TAXL600Q7HM  B003BYKJH6   \n",
       "1                1          US     33797792  R2I8433XLIGLC4  B0055DNHLQ   \n",
       "2                2          US       948790   RXAODS7YI7F5F  B00MG1VQ4A   \n",
       "3                3          US     13064212  R22UO05PUKW6R6  B001AGP3FK   \n",
       "4                4          US     28760389  R3KBFYWQ1KJ7A4  B00162PWI6   \n",
       "...            ...         ...          ...             ...         ...   \n",
       "888547      888547          US     49397927  R10ZA0US8S23ZH  B00RPZJ7HU   \n",
       "888548      888548          US     29803250   R9MZ4RTFXJR9V  B001RMUOKG   \n",
       "888549      888549          US     48027112   R8M5RI5Z2HFBS  B00030A4AS   \n",
       "888550      888550          US     26343792   RQZ0KYJFR13UD  B001O0D6QA   \n",
       "888551      888551          US     11309677   RZJIE9Y8XY7ER  B00F1P20S4   \n",
       "\n",
       "        product_parent                                      product_title  \\\n",
       "0            477541264  Organized Fishing Regular Sized Rubber Replace...   \n",
       "1            265512225  MLB Boston Red Sox Carl Crawford Signature Ser...   \n",
       "2             30042226     Nike Men's Mercurial Victory IV FG Soccer Shoe   \n",
       "3            490903426                Men's Nike Feather Light Cap, Black   \n",
       "4            234218806                       Lee Precision 308 Win Loader   \n",
       "...                ...                                                ...   \n",
       "888547       886866209  SNIPER® Rear Sight with Elevation Adjustable P...   \n",
       "888548       567842073  Barnett Outdoors Junior Archery 28-Inch Arrows...   \n",
       "888549        58599184  Mustad 3366 Classic Sproat Large Ring Hook (10...   \n",
       "888550       104661074                Attwood 9065-1 Battery Box Standard   \n",
       "888551       608816060                                Ar500 Metal Targets   \n",
       "\n",
       "       product_category  star_rating  helpful_votes  total_votes vine  \\\n",
       "0                Sports            2              0            0    N   \n",
       "1                Sports            1              1            1    N   \n",
       "2                Sports            5              0            0    N   \n",
       "3                Sports            2              2            3    N   \n",
       "4                Sports            5              1            1    N   \n",
       "...                 ...          ...            ...          ...  ...   \n",
       "888547           Sports            5              0            0    N   \n",
       "888548           Sports            1              0            0    N   \n",
       "888549           Sports            1              0            5    N   \n",
       "888550           Sports            5              0            0    N   \n",
       "888551           Sports            5              0            0    N   \n",
       "\n",
       "       verified_purchase                    review_headline  \\\n",
       "0                      Y                          Two Stars   \n",
       "1                      N  they should've showed me the back   \n",
       "2                      Y                         Five Stars   \n",
       "3                      Y     fit too large for average male   \n",
       "4                      Y                  Love the classics   \n",
       "...                  ...                                ...   \n",
       "888547                 Y                               Nice   \n",
       "888548                 Y                           Terrible   \n",
       "888549                 Y                             small.   \n",
       "888550                 Y                          Its a box   \n",
       "888551                 Y                        Works great   \n",
       "\n",
       "                                              review_body review_date  \\\n",
       "0       Rubber is too soft and will not hold rods secu...  2014-10-12   \n",
       "1       I assumed the back just had a number or was pl...  2014-06-19   \n",
       "2                                                 Amazing  2015-06-07   \n",
       "3       the hat is humongous unless you got watermelon...  2014-05-05   \n",
       "4       If you know Lee products, and you just want to...  2014-04-26   \n",
       "...                                                   ...         ...   \n",
       "888547  Good quality piece. Fit my gun good and the si...  2015-08-14   \n",
       "888548             Really bad, even for cheap youth bows.  2015-06-09   \n",
       "888549                                   small. too small  2015-02-08   \n",
       "888550  Ordered this battery box because the previous ...  2012-12-11   \n",
       "888551  Very good product I bought a 3,4 and 6 inch ha...  2014-05-27   \n",
       "\n",
       "       sentiment  \n",
       "0       negative  \n",
       "1       negative  \n",
       "2       positive  \n",
       "3       negative  \n",
       "4       positive  \n",
       "...          ...  \n",
       "888547  positive  \n",
       "888548  negative  \n",
       "888549  negative  \n",
       "888550  positive  \n",
       "888551  positive  \n",
       "\n",
       "[888552 rows x 17 columns]"
      ]
     },
     "execution_count": 19,
     "metadata": {},
     "output_type": "execute_result"
    }
   ],
   "source": [
    "df_sports = pd.read_csv(\"data\\\\sports_reviews(subset).csv\")\n",
    "df_sports"
   ]
  },
  {
   "cell_type": "markdown",
   "metadata": {},
   "source": [
    "## Preproccesing\n",
    "- using both the review and summary\n",
    "- making the targets (0,1)\n",
    "- dropping empty rows"
   ]
  },
  {
   "cell_type": "markdown",
   "metadata": {},
   "source": [
    "## Train set"
   ]
  },
  {
   "cell_type": "code",
   "execution_count": 20,
   "metadata": {},
   "outputs": [],
   "source": [
    "df_sports = df_sports.replace(np.nan, '', regex=True)\n",
    "df_sports['review_headline'] = df_sports.review_body + ' ' + df_sports.review_headline\n",
    "data = df_sports[[\"review_headline\",\"sentiment\"]]\n",
    "data = data.replace({\"sentiment\":{\"positive\":1,\"negative\":0}})"
   ]
  },
  {
   "cell_type": "markdown",
   "metadata": {},
   "source": [
    "## Validation set"
   ]
  },
  {
   "cell_type": "code",
   "execution_count": 21,
   "metadata": {},
   "outputs": [],
   "source": [
    "df_sports_dev = pd.read_csv(\"data\\\\sports_reviews_dev(subset).csv\")\n",
    "\n",
    "df_sports_dev = df_sports_dev.replace(np.nan, '', regex=True)\n",
    "df_sports_dev['review_headline'] = df_sports_dev.review_body + ' ' + df_sports_dev.review_headline\n",
    "data_dev = df_sports_dev[[\"review_headline\",\"sentiment\"]]\n",
    "data_dev = data_dev.replace({\"sentiment\":{\"positive\":1,\"negative\":0}})"
   ]
  },
  {
   "cell_type": "markdown",
   "metadata": {},
   "source": [
    "## Pipeline\n",
    "- words counts\n",
    "- naive bayes"
   ]
  },
  {
   "cell_type": "code",
   "execution_count": 22,
   "metadata": {},
   "outputs": [],
   "source": [
    "pipeline = Pipeline(steps=[\n",
    "    (\"TFIDFVectorizer_transform\",TfidfVectorizer()),\n",
    "    (\"MultinomialNB\", MultinomialNB())\n",
    "])"
   ]
  },
  {
   "cell_type": "code",
   "execution_count": 23,
   "metadata": {},
   "outputs": [
    {
     "data": {
      "text/plain": [
       "Pipeline(steps=[('TFIDFVectorizer_transform', TfidfVectorizer()),\n",
       "                ('MultinomialNB', MultinomialNB())])"
      ]
     },
     "execution_count": 23,
     "metadata": {},
     "output_type": "execute_result"
    }
   ],
   "source": [
    "pipeline.fit(data[\"review_headline\"],data[\"sentiment\"])"
   ]
  },
  {
   "cell_type": "markdown",
   "metadata": {},
   "source": [
    "## Validation\n",
    "Using f1 score to validate"
   ]
  },
  {
   "cell_type": "code",
   "execution_count": 24,
   "metadata": {},
   "outputs": [],
   "source": [
    "preds = pipeline.predict(data_dev[\"review_headline\"])"
   ]
  },
  {
   "cell_type": "code",
   "execution_count": 25,
   "metadata": {},
   "outputs": [
    {
     "data": {
      "text/plain": [
       "0.9054829852733173"
      ]
     },
     "execution_count": 25,
     "metadata": {},
     "output_type": "execute_result"
    }
   ],
   "source": [
    "f1_score(preds, data_dev[\"sentiment\"])"
   ]
  },
  {
   "cell_type": "code",
   "execution_count": 26,
   "metadata": {},
   "outputs": [
    {
     "data": {
      "image/png": "[encoded data removed]",
      "text/plain": [
       "<Figure size 432x288 with 2 Axes>"
      ]
     },
     "metadata": {
      "needs_background": "light"
     },
     "output_type": "display_data"
    }
   ],
   "source": [
    "mat = confusion_matrix(data_dev[\"sentiment\"], preds)\n",
    "sns.heatmap(mat.T, square = True, annot=True, fmt = \"d\",)\n",
    "plt.xlabel(\"true labels\")\n",
    "plt.ylabel(\"predicted label\")\n",
    "plt.show()"
   ]
  },
  {
   "cell_type": "markdown",
   "metadata": {},
   "source": [
    "## Write model to file"
   ]
  },
  {
   "cell_type": "code",
   "execution_count": 27,
   "metadata": {},
   "outputs": [],
   "source": [
    "with open(\"baseline_model_sports.pickle\", \"wb\") as file:\n",
    "    pickle.dump(pipeline, file)"
   ]
  }
 ],
 "metadata": {
  "kernelspec": {
   "display_name": "Python 3",
   "language": "python",
   "name": "python3"
  },
  "language_info": {
   "codemirror_mode": {
    "name": "ipython",
    "version": 3
   },
   "file_extension": ".py",
   "mimetype": "text/x-python",
   "name": "python",
   "nbconvert_exporter": "python",
   "pygments_lexer": "ipython3",
   "version": "3.8.5"
  }
 },
 "nbformat": 4,
 "nbformat_minor": 4
}
