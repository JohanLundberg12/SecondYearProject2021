{
 "cells": [
  {
   "cell_type": "code",
   "execution_count": 1,
   "id": "33acc64c",
   "metadata": {},
   "outputs": [
    {
     "name": "stderr",
     "output_type": "stream",
     "text": [
      "Using TensorFlow backend.\n"
     ]
    }
   ],
   "source": [
    "import pandas as pd\n",
    "import numpy as np\n",
    "import tensorflow as tf\n",
    "\n",
    "from Load import json_to_df\n",
    "import tensorflow_hub as hub\n",
    "from keras import backend as K\n",
    "import keras.layers as layers\n",
    "from keras.models import Model, load_model\n",
    "from keras.engine import Layer"
   ]
  },
  {
   "cell_type": "code",
   "execution_count": 8,
   "id": "2fec246b",
   "metadata": {},
   "outputs": [],
   "source": [
    "from sklearn.metrics import accuracy_score"
   ]
  },
  {
   "cell_type": "code",
   "execution_count": 2,
   "id": "83946a6b",
   "metadata": {},
   "outputs": [],
   "source": [
    "class ElmoEmbeddingLayer(layers.Layer):\n",
    "    def __init__(self, **kwargs):\n",
    "        self.dimensions = 1024\n",
    "        self.trainable = True\n",
    "        super(ElmoEmbeddingLayer, self).__init__(**kwargs)\n",
    "        \n",
    "    def build(self, input_shape):\n",
    "        self.elmo = hub.Module('https://tfhub.dev/google/elmo/2', trainable=self.trainable, name=\"{}_module\".format(self.name))\n",
    "        self.trainable_weights += tf.trainable_variables(scope=\"^{}_module/.*\".format(self.name))\n",
    "        super(ElmoEmbeddingLayer, self).build(input_shape)\n",
    "        \n",
    "    def call(self, x, mask=None):\n",
    "        result = self.elmo(K.squeeze(K.cast(x, tf.string), axis=1),\n",
    "                      as_dict=True,\n",
    "                      signature='default',\n",
    "                      )['default']\n",
    "        return result\n",
    "    \n",
    "    def compute_mask(self, inputs, mask=None):\n",
    "        return K.not_equal(inputs, '--PAD--')\n",
    "    \n",
    "    def compute_output_shape(self, input_shape):\n",
    "        return (input_shape[0], self.dimensions)"
   ]
  },
  {
   "cell_type": "code",
   "execution_count": 11,
   "id": "8fc69e0b",
   "metadata": {},
   "outputs": [],
   "source": [
    "def build_model():\n",
    "    input_text = layers.Input(shape=(1,), dtype=\"string\")\n",
    "    embedding = ElmoEmbeddingLayer()(input_text)\n",
    "    dense = layers.Dense(256, activation='relu')(embedding)\n",
    "    pred = layers.Dense(1, activation='sigmoid')(dense)\n",
    "\n",
    "    model = Model(inputs=[input_text], outputs=pred)\n",
    "    return model"
   ]
  },
  {
   "cell_type": "code",
   "execution_count": 13,
   "id": "759f54d9",
   "metadata": {},
   "outputs": [],
   "source": [
    "def test_model(model_path, cheatsheet_path):\n",
    "    model = None\n",
    "    model = build_model()\n",
    "    \n",
    "    model.load_weights(model_path)\n",
    "    \n",
    "    cheatsheet = pd.read_csv(cheatsheet_path).replace({\"positive\":1,\"negative\":0})\n",
    "    hard_text = [' '.join(t.split()) for t in music[\"review_body\"]]\n",
    "    hard_text = np.array(hard_text, dtype=object)[:, np.newaxis]\n",
    "    \n",
    "    results = model.predict(hard_text)\n",
    "    \n",
    "    preds = []\n",
    "    for i in results:\n",
    "        if i >= 0.5:\n",
    "            preds.append(1)\n",
    "        else:\n",
    "            preds.append(0)\n",
    "    cheatsheet[\"preds\"] = preds\n",
    "    print(\"Overall accuracy: \", accuracy_score(preds, cheatsheet[\"sentiment\"]))\n",
    "    for case in set(cheatsheet[\"casetype\"]):\n",
    "        temp_df = cheatsheet[cheatsheet[\"casetype\"]==case]\n",
    "        print(case, \" accuracy: \", accuracy_score(temp_df[\"preds\"],temp_df[\"sentiment\"]))\n"
   ]
  },
  {
   "cell_type": "markdown",
   "id": "676b1be3",
   "metadata": {},
   "source": [
    "# Music"
   ]
  },
  {
   "cell_type": "code",
   "execution_count": 14,
   "id": "51b8ea46",
   "metadata": {},
   "outputs": [
    {
     "name": "stdout",
     "output_type": "stream",
     "text": [
      "INFO:tensorflow:Saver not created because there are no variables in the graph to restore\n"
     ]
    },
    {
     "name": "stderr",
     "output_type": "stream",
     "text": [
      "INFO:tensorflow:Saver not created because there are no variables in the graph to restore\n"
     ]
    },
    {
     "name": "stdout",
     "output_type": "stream",
     "text": [
      "Overall accuracy:  0.7\n",
      "temporal  accuracy:  0.5\n",
      "fairness  accuracy:  0.85\n",
      "invariance  accuracy:  0.85\n",
      "negation  accuracy:  0.4\n",
      "regular  accuracy:  0.9\n"
     ]
    }
   ],
   "source": [
    "test_model(\"model_org_.04-0.93.hdf5\",\"Experiment results\\\\hardcases_music_cheatsheet.csv\")"
   ]
  },
  {
   "cell_type": "markdown",
   "id": "fc001f08",
   "metadata": {},
   "source": [
    "# Beauty"
   ]
  },
  {
   "cell_type": "code",
   "execution_count": 16,
   "id": "edae9d39",
   "metadata": {},
   "outputs": [
    {
     "name": "stdout",
     "output_type": "stream",
     "text": [
      "INFO:tensorflow:Saver not created because there are no variables in the graph to restore\n"
     ]
    },
    {
     "name": "stderr",
     "output_type": "stream",
     "text": [
      "INFO:tensorflow:Saver not created because there are no variables in the graph to restore\n"
     ]
    },
    {
     "name": "stdout",
     "output_type": "stream",
     "text": [
      "Overall accuracy:  0.72\n",
      "temporal  accuracy:  0.6\n",
      "fairness  accuracy:  0.75\n",
      "invariance  accuracy:  0.9\n",
      "negation  accuracy:  0.5\n",
      "regular  accuracy:  0.85\n"
     ]
    }
   ],
   "source": [
    "test_model(\"model_beauty.04-0.91.hdf5\",\"Experiment results\\\\hardcases_beauty_cheatsheet.csv\")"
   ]
  }
 ],
 "metadata": {
  "kernelspec": {
   "display_name": "Python 3",
   "language": "python",
   "name": "python3"
  },
  "language_info": {
   "codemirror_mode": {
    "name": "ipython",
    "version": 3
   },
   "file_extension": ".py",
   "mimetype": "text/x-python",
   "name": "python",
   "nbconvert_exporter": "python",
   "pygments_lexer": "ipython3",
   "version": "3.7.10"
  }
 },
 "nbformat": 4,
 "nbformat_minor": 5
}
