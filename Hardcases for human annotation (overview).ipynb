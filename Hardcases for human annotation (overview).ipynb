{
 "cells": [
  {
   "cell_type": "code",
   "execution_count": 3,
   "metadata": {},
   "outputs": [],
   "source": [
    "import pandas as pd"
   ]
  },
  {
   "cell_type": "code",
   "execution_count": 10,
   "metadata": {
    "scrolled": true
   },
   "outputs": [],
   "source": [
    "hardcases_sports = pd.read_csv(\"hardcases_sports_cheatsheet.csv\",index_col=0)"
   ]
  },
  {
   "cell_type": "code",
   "execution_count": 9,
   "metadata": {},
   "outputs": [],
   "source": [
    "hardcases_beauty = pd.read_csv(\"hardcases_beauty_cheatsheet.csv\", index_col=0)"
   ]
  },
  {
   "cell_type": "code",
   "execution_count": 6,
   "metadata": {},
   "outputs": [],
   "source": [
    "hardcases_music = pd.read_csv(\"hardcases_music_cheatsheet.csv\",index_col=0)"
   ]
  },
  {
   "cell_type": "code",
   "execution_count": 7,
   "metadata": {},
   "outputs": [
    {
     "data": {
      "text/html": [
       "<div>\n",
       "<style scoped>\n",
       "    .dataframe tbody tr th:only-of-type {\n",
       "        vertical-align: middle;\n",
       "    }\n",
       "\n",
       "    .dataframe tbody tr th {\n",
       "        vertical-align: top;\n",
       "    }\n",
       "\n",
       "    .dataframe thead th {\n",
       "        text-align: right;\n",
       "    }\n",
       "</style>\n",
       "<table border=\"1\" class=\"dataframe\">\n",
       "  <thead>\n",
       "    <tr style=\"text-align: right;\">\n",
       "      <th></th>\n",
       "      <th>review_body</th>\n",
       "      <th>sentiment</th>\n",
       "      <th>casetype</th>\n",
       "    </tr>\n",
       "  </thead>\n",
       "  <tbody>\n",
       "    <tr>\n",
       "      <th>0</th>\n",
       "      <td>I have now seen the future of country/bluegras...</td>\n",
       "      <td>positive</td>\n",
       "      <td>fairness</td>\n",
       "    </tr>\n",
       "    <tr>\n",
       "      <th>1</th>\n",
       "      <td>Bought the album for my son.  He has cerebal p...</td>\n",
       "      <td>positive</td>\n",
       "      <td>fairness</td>\n",
       "    </tr>\n",
       "    <tr>\n",
       "      <th>2</th>\n",
       "      <td>I can't believe all the 4 and 5 stars this rec...</td>\n",
       "      <td>negative</td>\n",
       "      <td>invariance</td>\n",
       "    </tr>\n",
       "    <tr>\n",
       "      <th>3</th>\n",
       "      <td>I love t.A.T.u. I'm a lesbian myself and to he...</td>\n",
       "      <td>positive</td>\n",
       "      <td>fairness</td>\n",
       "    </tr>\n",
       "    <tr>\n",
       "      <th>4</th>\n",
       "      <td>I bought this record in order to do the class ...</td>\n",
       "      <td>negative</td>\n",
       "      <td>fairness</td>\n",
       "    </tr>\n",
       "    <tr>\n",
       "      <th>...</th>\n",
       "      <td>...</td>\n",
       "      <td>...</td>\n",
       "      <td>...</td>\n",
       "    </tr>\n",
       "    <tr>\n",
       "      <th>95</th>\n",
       "      <td>I used to like this music, although now I regr...</td>\n",
       "      <td>negative</td>\n",
       "      <td>temporal</td>\n",
       "    </tr>\n",
       "    <tr>\n",
       "      <th>96</th>\n",
       "      <td>You will never here the Symphonie Fantastique ...</td>\n",
       "      <td>positive</td>\n",
       "      <td>regular</td>\n",
       "    </tr>\n",
       "    <tr>\n",
       "      <th>97</th>\n",
       "      <td>In the past I thought this cd was excellent, b...</td>\n",
       "      <td>negative</td>\n",
       "      <td>temporal</td>\n",
       "    </tr>\n",
       "    <tr>\n",
       "      <th>98</th>\n",
       "      <td>I bought this CD because I'd heard so many gre...</td>\n",
       "      <td>negative</td>\n",
       "      <td>regular</td>\n",
       "    </tr>\n",
       "    <tr>\n",
       "      <th>99</th>\n",
       "      <td>Too bad \\\\\"no stars\\\\\" isn't an option. What a...</td>\n",
       "      <td>negative</td>\n",
       "      <td>invariance</td>\n",
       "    </tr>\n",
       "  </tbody>\n",
       "</table>\n",
       "<p>100 rows × 3 columns</p>\n",
       "</div>"
      ],
      "text/plain": [
       "                                          review_body sentiment    casetype\n",
       "0   I have now seen the future of country/bluegras...  positive    fairness\n",
       "1   Bought the album for my son.  He has cerebal p...  positive    fairness\n",
       "2   I can't believe all the 4 and 5 stars this rec...  negative  invariance\n",
       "3   I love t.A.T.u. I'm a lesbian myself and to he...  positive    fairness\n",
       "4   I bought this record in order to do the class ...  negative    fairness\n",
       "..                                                ...       ...         ...\n",
       "95  I used to like this music, although now I regr...  negative    temporal\n",
       "96  You will never here the Symphonie Fantastique ...  positive     regular\n",
       "97  In the past I thought this cd was excellent, b...  negative    temporal\n",
       "98  I bought this CD because I'd heard so many gre...  negative     regular\n",
       "99  Too bad \\\\\"no stars\\\\\" isn't an option. What a...  negative  invariance\n",
       "\n",
       "[100 rows x 3 columns]"
      ]
     },
     "execution_count": 7,
     "metadata": {},
     "output_type": "execute_result"
    }
   ],
   "source": [
    "hardcases_music"
   ]
  }
 ],
 "metadata": {
  "kernelspec": {
   "display_name": "Python 3",
   "language": "python",
   "name": "python3"
  },
  "language_info": {
   "codemirror_mode": {
    "name": "ipython",
    "version": 3
   },
   "file_extension": ".py",
   "mimetype": "text/x-python",
   "name": "python",
   "nbconvert_exporter": "python",
   "pygments_lexer": "ipython3",
   "version": "3.8.5"
  }
 },
 "nbformat": 4,
 "nbformat_minor": 4
}
