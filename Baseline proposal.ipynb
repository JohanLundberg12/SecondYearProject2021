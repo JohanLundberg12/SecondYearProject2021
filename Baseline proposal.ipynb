{
 "cells": [
  {
   "cell_type": "code",
   "execution_count": 1,
   "metadata": {},
   "outputs": [],
   "source": [
    "import gzip\n",
    "import json\n",
    "import pandas as pd\n",
    "from sklearn.pipeline import Pipeline\n",
    "from sklearn.base import BaseEstimator, TransformerMixin\n",
    "from sklearn.naive_bayes import GaussianNB, MultinomialNB ,BernoulliNB\n",
    "from Load import json_to_df\n",
    "import preprocess\n",
    "import re\n",
    "import numpy as np\n",
    "from sklearn.feature_extraction.text import TfidfVectorizer, CountVectorizer\n",
    "from sklearn.metrics import f1_score"
   ]
  },
  {
   "cell_type": "code",
   "execution_count": 25,
   "metadata": {},
   "outputs": [],
   "source": [
    "import seaborn as sns\n",
    "import matplotlib.pyplot as plt"
   ]
  },
  {
   "cell_type": "markdown",
   "metadata": {},
   "source": [
    "# Dataset"
   ]
  },
  {
   "cell_type": "code",
   "execution_count": 2,
   "metadata": {
    "scrolled": true
   },
   "outputs": [
    {
     "data": {
      "text/html": [
       "<div>\n",
       "<style scoped>\n",
       "    .dataframe tbody tr th:only-of-type {\n",
       "        vertical-align: middle;\n",
       "    }\n",
       "\n",
       "    .dataframe tbody tr th {\n",
       "        vertical-align: top;\n",
       "    }\n",
       "\n",
       "    .dataframe thead th {\n",
       "        text-align: right;\n",
       "    }\n",
       "</style>\n",
       "<table border=\"1\" class=\"dataframe\">\n",
       "  <thead>\n",
       "    <tr style=\"text-align: right;\">\n",
       "      <th></th>\n",
       "      <th>verified</th>\n",
       "      <th>reviewTime</th>\n",
       "      <th>reviewerID</th>\n",
       "      <th>asin</th>\n",
       "      <th>reviewText</th>\n",
       "      <th>summary</th>\n",
       "      <th>unixReviewTime</th>\n",
       "      <th>sentiment</th>\n",
       "      <th>id</th>\n",
       "      <th>style.Format:</th>\n",
       "      <th>vote</th>\n",
       "      <th>image</th>\n",
       "    </tr>\n",
       "  </thead>\n",
       "  <tbody>\n",
       "    <tr>\n",
       "      <th>0</th>\n",
       "      <td>True</td>\n",
       "      <td>09 11, 2013</td>\n",
       "      <td>AC2PL52NKPL29</td>\n",
       "      <td>0001388703</td>\n",
       "      <td>So creative!  Love his music - the words, the ...</td>\n",
       "      <td>Gotta listen to this!</td>\n",
       "      <td>1378857600</td>\n",
       "      <td>positive</td>\n",
       "      <td>0</td>\n",
       "      <td>Audio CD</td>\n",
       "      <td>NaN</td>\n",
       "      <td>NaN</td>\n",
       "    </tr>\n",
       "    <tr>\n",
       "      <th>1</th>\n",
       "      <td>False</td>\n",
       "      <td>05 14, 2009</td>\n",
       "      <td>A3NVGWKHLULDHR</td>\n",
       "      <td>0001388703</td>\n",
       "      <td>This tape can hardly be understood and it was ...</td>\n",
       "      <td>Shame Shame</td>\n",
       "      <td>1242259200</td>\n",
       "      <td>negative</td>\n",
       "      <td>1</td>\n",
       "      <td>Audio Cassette</td>\n",
       "      <td>NaN</td>\n",
       "      <td>NaN</td>\n",
       "    </tr>\n",
       "    <tr>\n",
       "      <th>2</th>\n",
       "      <td>True</td>\n",
       "      <td>05 15, 2015</td>\n",
       "      <td>AZ3T21W6CW0MW</td>\n",
       "      <td>0001388703</td>\n",
       "      <td>Buy the CD.  Do not buy the MP3 album.  Downlo...</td>\n",
       "      <td>Buy the CD.  Do not buy the MP3.</td>\n",
       "      <td>1431648000</td>\n",
       "      <td>negative</td>\n",
       "      <td>2</td>\n",
       "      <td>MP3 Music</td>\n",
       "      <td>NaN</td>\n",
       "      <td>NaN</td>\n",
       "    </tr>\n",
       "    <tr>\n",
       "      <th>3</th>\n",
       "      <td>True</td>\n",
       "      <td>10 3, 2016</td>\n",
       "      <td>A50DSLM71EAVO</td>\n",
       "      <td>0001526146</td>\n",
       "      <td>I love Dallas Holms music and voice!  Thank Yo...</td>\n",
       "      <td>Five Stars</td>\n",
       "      <td>1475452800</td>\n",
       "      <td>positive</td>\n",
       "      <td>3</td>\n",
       "      <td>NaN</td>\n",
       "      <td>NaN</td>\n",
       "      <td>NaN</td>\n",
       "    </tr>\n",
       "    <tr>\n",
       "      <th>4</th>\n",
       "      <td>False</td>\n",
       "      <td>12 11, 2014</td>\n",
       "      <td>AKNKAT9XGAFPE</td>\n",
       "      <td>0001527134</td>\n",
       "      <td>Great memories of my early years in Christ</td>\n",
       "      <td>Five Stars</td>\n",
       "      <td>1418256000</td>\n",
       "      <td>positive</td>\n",
       "      <td>4</td>\n",
       "      <td>Audio CD</td>\n",
       "      <td>NaN</td>\n",
       "      <td>NaN</td>\n",
       "    </tr>\n",
       "    <tr>\n",
       "      <th>...</th>\n",
       "      <td>...</td>\n",
       "      <td>...</td>\n",
       "      <td>...</td>\n",
       "      <td>...</td>\n",
       "      <td>...</td>\n",
       "      <td>...</td>\n",
       "      <td>...</td>\n",
       "      <td>...</td>\n",
       "      <td>...</td>\n",
       "      <td>...</td>\n",
       "      <td>...</td>\n",
       "      <td>...</td>\n",
       "    </tr>\n",
       "    <tr>\n",
       "      <th>99995</th>\n",
       "      <td>True</td>\n",
       "      <td>10 7, 2015</td>\n",
       "      <td>A2M2XF2QJZS7T3</td>\n",
       "      <td>B002POOJN8</td>\n",
       "      <td>Great old song. Love it.</td>\n",
       "      <td>Great</td>\n",
       "      <td>1444176000</td>\n",
       "      <td>positive</td>\n",
       "      <td>99995</td>\n",
       "      <td>MP3 Music</td>\n",
       "      <td>NaN</td>\n",
       "      <td>NaN</td>\n",
       "    </tr>\n",
       "    <tr>\n",
       "      <th>99996</th>\n",
       "      <td>False</td>\n",
       "      <td>12 17, 2012</td>\n",
       "      <td>A1BKW2O4G0DB9A</td>\n",
       "      <td>B002PQXDW4</td>\n",
       "      <td>Daniel Smith has no more command of the bassoo...</td>\n",
       "      <td>Absolute garbage</td>\n",
       "      <td>1355702400</td>\n",
       "      <td>negative</td>\n",
       "      <td>99996</td>\n",
       "      <td>Audio CD</td>\n",
       "      <td>3</td>\n",
       "      <td>NaN</td>\n",
       "    </tr>\n",
       "    <tr>\n",
       "      <th>99997</th>\n",
       "      <td>True</td>\n",
       "      <td>11 4, 2017</td>\n",
       "      <td>A262BLYWUG3729</td>\n",
       "      <td>B002PRF7AO</td>\n",
       "      <td>I'm enjoying her album very much!</td>\n",
       "      <td>Five Stars</td>\n",
       "      <td>1509753600</td>\n",
       "      <td>positive</td>\n",
       "      <td>99997</td>\n",
       "      <td>NaN</td>\n",
       "      <td>NaN</td>\n",
       "      <td>NaN</td>\n",
       "    </tr>\n",
       "    <tr>\n",
       "      <th>99998</th>\n",
       "      <td>False</td>\n",
       "      <td>06 24, 2017</td>\n",
       "      <td>A2O9U4W4O7KQH7</td>\n",
       "      <td>B002PRCQTE</td>\n",
       "      <td>These digital files are corrupted.  There are ...</td>\n",
       "      <td>BAD DIGITAL RECORDING - Very sad</td>\n",
       "      <td>1498262400</td>\n",
       "      <td>negative</td>\n",
       "      <td>99998</td>\n",
       "      <td>MP3 Music</td>\n",
       "      <td>NaN</td>\n",
       "      <td>NaN</td>\n",
       "    </tr>\n",
       "    <tr>\n",
       "      <th>99999</th>\n",
       "      <td>True</td>\n",
       "      <td>03 16, 2015</td>\n",
       "      <td>A1KR3JAKSF0QYD</td>\n",
       "      <td>B002PSKFNM</td>\n",
       "      <td>I saw the Tempest live performed by the Minnes...</td>\n",
       "      <td>... the Tempest live performed by the Minnesot...</td>\n",
       "      <td>1426464000</td>\n",
       "      <td>negative</td>\n",
       "      <td>99999</td>\n",
       "      <td>MP3 Music</td>\n",
       "      <td>NaN</td>\n",
       "      <td>NaN</td>\n",
       "    </tr>\n",
       "  </tbody>\n",
       "</table>\n",
       "<p>100000 rows × 12 columns</p>\n",
       "</div>"
      ],
      "text/plain": [
       "       verified   reviewTime      reviewerID        asin  \\\n",
       "0          True  09 11, 2013   AC2PL52NKPL29  0001388703   \n",
       "1         False  05 14, 2009  A3NVGWKHLULDHR  0001388703   \n",
       "2          True  05 15, 2015   AZ3T21W6CW0MW  0001388703   \n",
       "3          True   10 3, 2016   A50DSLM71EAVO  0001526146   \n",
       "4         False  12 11, 2014   AKNKAT9XGAFPE  0001527134   \n",
       "...         ...          ...             ...         ...   \n",
       "99995      True   10 7, 2015  A2M2XF2QJZS7T3  B002POOJN8   \n",
       "99996     False  12 17, 2012  A1BKW2O4G0DB9A  B002PQXDW4   \n",
       "99997      True   11 4, 2017  A262BLYWUG3729  B002PRF7AO   \n",
       "99998     False  06 24, 2017  A2O9U4W4O7KQH7  B002PRCQTE   \n",
       "99999      True  03 16, 2015  A1KR3JAKSF0QYD  B002PSKFNM   \n",
       "\n",
       "                                              reviewText  \\\n",
       "0      So creative!  Love his music - the words, the ...   \n",
       "1      This tape can hardly be understood and it was ...   \n",
       "2      Buy the CD.  Do not buy the MP3 album.  Downlo...   \n",
       "3      I love Dallas Holms music and voice!  Thank Yo...   \n",
       "4             Great memories of my early years in Christ   \n",
       "...                                                  ...   \n",
       "99995                           Great old song. Love it.   \n",
       "99996  Daniel Smith has no more command of the bassoo...   \n",
       "99997                  I'm enjoying her album very much!   \n",
       "99998  These digital files are corrupted.  There are ...   \n",
       "99999  I saw the Tempest live performed by the Minnes...   \n",
       "\n",
       "                                                 summary  unixReviewTime  \\\n",
       "0                                  Gotta listen to this!      1378857600   \n",
       "1                                            Shame Shame      1242259200   \n",
       "2                       Buy the CD.  Do not buy the MP3.      1431648000   \n",
       "3                                             Five Stars      1475452800   \n",
       "4                                             Five Stars      1418256000   \n",
       "...                                                  ...             ...   \n",
       "99995                                              Great      1444176000   \n",
       "99996                                   Absolute garbage      1355702400   \n",
       "99997                                         Five Stars      1509753600   \n",
       "99998                   BAD DIGITAL RECORDING - Very sad      1498262400   \n",
       "99999  ... the Tempest live performed by the Minnesot...      1426464000   \n",
       "\n",
       "      sentiment     id    style.Format: vote image  \n",
       "0      positive      0         Audio CD  NaN   NaN  \n",
       "1      negative      1   Audio Cassette  NaN   NaN  \n",
       "2      negative      2        MP3 Music  NaN   NaN  \n",
       "3      positive      3              NaN  NaN   NaN  \n",
       "4      positive      4         Audio CD  NaN   NaN  \n",
       "...         ...    ...              ...  ...   ...  \n",
       "99995  positive  99995        MP3 Music  NaN   NaN  \n",
       "99996  negative  99996         Audio CD    3   NaN  \n",
       "99997  positive  99997              NaN  NaN   NaN  \n",
       "99998  negative  99998        MP3 Music  NaN   NaN  \n",
       "99999  negative  99999        MP3 Music  NaN   NaN  \n",
       "\n",
       "[100000 rows x 12 columns]"
      ]
     },
     "execution_count": 2,
     "metadata": {},
     "output_type": "execute_result"
    }
   ],
   "source": [
    "df = json_to_df(\"data\\\\music_reviews_train.json\")\n",
    "df"
   ]
  },
  {
   "cell_type": "markdown",
   "metadata": {},
   "source": [
    "## Preproccesing\n",
    "- using both the review and summary\n",
    "- making the targets (0,1)\n",
    "- dropping empty rows"
   ]
  },
  {
   "cell_type": "markdown",
   "metadata": {},
   "source": [
    "### Train set"
   ]
  },
  {
   "cell_type": "code",
   "execution_count": 3,
   "metadata": {},
   "outputs": [],
   "source": [
    "df = df.replace(np.nan, '', regex=True)"
   ]
  },
  {
   "cell_type": "code",
   "execution_count": 4,
   "metadata": {},
   "outputs": [],
   "source": [
    "df['summary'] = df.reviewText + ' ' + df.summary"
   ]
  },
  {
   "cell_type": "code",
   "execution_count": 5,
   "metadata": {},
   "outputs": [],
   "source": [
    "data = df[[\"summary\",\"sentiment\"]]"
   ]
  },
  {
   "cell_type": "code",
   "execution_count": 6,
   "metadata": {},
   "outputs": [],
   "source": [
    "data = data.replace({\"sentiment\":{\"positive\":1,\"negative\":0}})"
   ]
  },
  {
   "cell_type": "markdown",
   "metadata": {},
   "source": [
    "### Validation set"
   ]
  },
  {
   "cell_type": "code",
   "execution_count": 8,
   "metadata": {},
   "outputs": [],
   "source": [
    "df_dev = json_to_df(\"data\\\\music_reviews_dev.json\")"
   ]
  },
  {
   "cell_type": "code",
   "execution_count": 9,
   "metadata": {},
   "outputs": [],
   "source": [
    "df_dev = df_dev.replace(np.nan, '', regex=True)"
   ]
  },
  {
   "cell_type": "code",
   "execution_count": 10,
   "metadata": {},
   "outputs": [],
   "source": [
    "df_dev[\"summary\"] = df_dev.reviewText + ' ' + df_dev.summary"
   ]
  },
  {
   "cell_type": "code",
   "execution_count": 11,
   "metadata": {},
   "outputs": [],
   "source": [
    "data_dev = df_dev[[\"summary\",\"sentiment\"]]\n",
    "data_dev = data_dev.replace({\"sentiment\":{\"positive\":1,\"negative\":0}})"
   ]
  },
  {
   "cell_type": "markdown",
   "metadata": {},
   "source": [
    "## Pipeline\n",
    "- words counts\n",
    "- naive bayes"
   ]
  },
  {
   "cell_type": "code",
   "execution_count": 12,
   "metadata": {},
   "outputs": [],
   "source": [
    "pipeline = Pipeline(steps=[\n",
    "    (\"TFIDFVectorizer_transform\",TfidfVectorizer()),\n",
    "    (\"MultinomialNB\", MultinomialNB())\n",
    "])"
   ]
  },
  {
   "cell_type": "code",
   "execution_count": 13,
   "metadata": {
    "scrolled": true
   },
   "outputs": [
    {
     "data": {
      "text/plain": [
       "Pipeline(steps=[('TFIDFVectorizer_transform', TfidfVectorizer()),\n",
       "                ('MultinomialNB', MultinomialNB())])"
      ]
     },
     "execution_count": 13,
     "metadata": {},
     "output_type": "execute_result"
    }
   ],
   "source": [
    "pipeline.fit(data[\"summary\"],data[\"sentiment\"])"
   ]
  },
  {
   "cell_type": "markdown",
   "metadata": {},
   "source": [
    "## Validation\n",
    "Using f1 score to validate"
   ]
  },
  {
   "cell_type": "code",
   "execution_count": 14,
   "metadata": {},
   "outputs": [],
   "source": [
    "preds = pipeline.predict(data_dev[\"summary\"])"
   ]
  },
  {
   "cell_type": "code",
   "execution_count": 15,
   "metadata": {},
   "outputs": [
    {
     "data": {
      "text/plain": [
       "0.9305925862217254"
      ]
     },
     "execution_count": 15,
     "metadata": {},
     "output_type": "execute_result"
    }
   ],
   "source": [
    "f1_score(preds, data_dev[\"sentiment\"])"
   ]
  },
  {
   "cell_type": "code",
   "execution_count": 26,
   "metadata": {},
   "outputs": [
    {
     "data": {
      "image/png": "[encoded data removed]",
      "text/plain": [
       "<Figure size 432x288 with 2 Axes>"
      ]
     },
     "metadata": {
      "needs_background": "light"
     },
     "output_type": "display_data"
    }
   ],
   "source": [
    "mat = confusion_matrix(data_dev[\"sentiment\"], preds)\n",
    "sns.heatmap(mat.T, square = True, annot=True, fmt = \"d\",)\n",
    "plt.xlabel(\"true labels\")\n",
    "plt.ylabel(\"predicted label\")\n",
    "plt.show()"
   ]
  },
  {
   "cell_type": "code",
   "execution_count": 16,
   "metadata": {},
   "outputs": [],
   "source": [
    "df_test = json_to_df(\"data\\\\music_reviews_test_masked.json\")"
   ]
  },
  {
   "cell_type": "code",
   "execution_count": 17,
   "metadata": {},
   "outputs": [],
   "source": [
    "df_test = df_test.replace(np.nan, '', regex=True)"
   ]
  },
  {
   "cell_type": "code",
   "execution_count": 18,
   "metadata": {},
   "outputs": [],
   "source": [
    "df_test[\"summary\"] = df_test.reviewText + \" \" + df_test.summary"
   ]
  },
  {
   "cell_type": "code",
   "execution_count": 19,
   "metadata": {},
   "outputs": [],
   "source": [
    "data_test = df_test[[\"summary\",\"sentiment\"]]"
   ]
  },
  {
   "cell_type": "code",
   "execution_count": 20,
   "metadata": {
    "scrolled": true
   },
   "outputs": [],
   "source": [
    "preds_test = pipeline.predict(data_test[\"summary\"])"
   ]
  },
  {
   "cell_type": "code",
   "execution_count": 21,
   "metadata": {},
   "outputs": [
    {
     "data": {
      "text/html": [
       "<div>\n",
       "<style scoped>\n",
       "    .dataframe tbody tr th:only-of-type {\n",
       "        vertical-align: middle;\n",
       "    }\n",
       "\n",
       "    .dataframe tbody tr th {\n",
       "        vertical-align: top;\n",
       "    }\n",
       "\n",
       "    .dataframe thead th {\n",
       "        text-align: right;\n",
       "    }\n",
       "</style>\n",
       "<table border=\"1\" class=\"dataframe\">\n",
       "  <thead>\n",
       "    <tr style=\"text-align: right;\">\n",
       "      <th></th>\n",
       "      <th>verified</th>\n",
       "      <th>reviewTime</th>\n",
       "      <th>reviewerID</th>\n",
       "      <th>asin</th>\n",
       "      <th>reviewText</th>\n",
       "      <th>summary</th>\n",
       "      <th>unixReviewTime</th>\n",
       "      <th>sentiment</th>\n",
       "      <th>id</th>\n",
       "      <th>style.Format:</th>\n",
       "      <th>vote</th>\n",
       "      <th>image</th>\n",
       "    </tr>\n",
       "  </thead>\n",
       "  <tbody>\n",
       "    <tr>\n",
       "      <th>0</th>\n",
       "      <td>True</td>\n",
       "      <td>10 24, 2017</td>\n",
       "      <td>A2HAJB8L9NVYTZ</td>\n",
       "      <td>B007Y1AMHE</td>\n",
       "      <td>ok</td>\n",
       "      <td>ok ok</td>\n",
       "      <td>1508803200</td>\n",
       "      <td>_</td>\n",
       "      <td>0</td>\n",
       "      <td></td>\n",
       "      <td></td>\n",
       "      <td></td>\n",
       "    </tr>\n",
       "    <tr>\n",
       "      <th>1</th>\n",
       "      <td>True</td>\n",
       "      <td>04 8, 2015</td>\n",
       "      <td>AD78RH9JWBDEU</td>\n",
       "      <td>B007Y1AMHE</td>\n",
       "      <td>Its awesome</td>\n",
       "      <td>Its awesome love it</td>\n",
       "      <td>1428451200</td>\n",
       "      <td>_</td>\n",
       "      <td>1</td>\n",
       "      <td></td>\n",
       "      <td></td>\n",
       "      <td></td>\n",
       "    </tr>\n",
       "    <tr>\n",
       "      <th>2</th>\n",
       "      <td>True</td>\n",
       "      <td>03 3, 2015</td>\n",
       "      <td>A5UNQFT0JQ8B</td>\n",
       "      <td>B007Y1AMHE</td>\n",
       "      <td>great, really good!</td>\n",
       "      <td>great, really good! Five Stars</td>\n",
       "      <td>1425340800</td>\n",
       "      <td>_</td>\n",
       "      <td>2</td>\n",
       "      <td></td>\n",
       "      <td></td>\n",
       "      <td></td>\n",
       "    </tr>\n",
       "    <tr>\n",
       "      <th>3</th>\n",
       "      <td>True</td>\n",
       "      <td>05 31, 2014</td>\n",
       "      <td>A1NPTQTAYO51XW</td>\n",
       "      <td>B007Y1AMHE</td>\n",
       "      <td>THANK THEE LORD FOR THIS YOUNG MAN WISDOM, I P...</td>\n",
       "      <td>THANK THEE LORD FOR THIS YOUNG MAN WISDOM, I P...</td>\n",
       "      <td>1401494400</td>\n",
       "      <td>_</td>\n",
       "      <td>3</td>\n",
       "      <td></td>\n",
       "      <td></td>\n",
       "      <td></td>\n",
       "    </tr>\n",
       "    <tr>\n",
       "      <th>4</th>\n",
       "      <td>True</td>\n",
       "      <td>01 21, 2013</td>\n",
       "      <td>AZ7ON5N7DLC6Y</td>\n",
       "      <td>B007Y1BQ9M</td>\n",
       "      <td>Andy Gibson has a good Texas music sound that ...</td>\n",
       "      <td>Andy Gibson has a good Texas music sound that ...</td>\n",
       "      <td>1358726400</td>\n",
       "      <td>_</td>\n",
       "      <td>4</td>\n",
       "      <td>MP3 Music</td>\n",
       "      <td></td>\n",
       "      <td></td>\n",
       "    </tr>\n",
       "    <tr>\n",
       "      <th>...</th>\n",
       "      <td>...</td>\n",
       "      <td>...</td>\n",
       "      <td>...</td>\n",
       "      <td>...</td>\n",
       "      <td>...</td>\n",
       "      <td>...</td>\n",
       "      <td>...</td>\n",
       "      <td>...</td>\n",
       "      <td>...</td>\n",
       "      <td>...</td>\n",
       "      <td>...</td>\n",
       "      <td>...</td>\n",
       "    </tr>\n",
       "    <tr>\n",
       "      <th>9995</th>\n",
       "      <td>False</td>\n",
       "      <td>02 4, 2016</td>\n",
       "      <td>A3FY8ZFJFF7NP2</td>\n",
       "      <td>B00CG68C0G</td>\n",
       "      <td>Love this song!!!!</td>\n",
       "      <td>Love this song!!!! Great song!!!</td>\n",
       "      <td>1454544000</td>\n",
       "      <td>_</td>\n",
       "      <td>9995</td>\n",
       "      <td>MP3 Music</td>\n",
       "      <td></td>\n",
       "      <td></td>\n",
       "    </tr>\n",
       "    <tr>\n",
       "      <th>9996</th>\n",
       "      <td>False</td>\n",
       "      <td>01 10, 2015</td>\n",
       "      <td>A2APTRQDU48IPH</td>\n",
       "      <td>B00CG68C0G</td>\n",
       "      <td>Very nice song.</td>\n",
       "      <td>Very nice song. Five Stars</td>\n",
       "      <td>1420848000</td>\n",
       "      <td>_</td>\n",
       "      <td>9996</td>\n",
       "      <td>MP3 Music</td>\n",
       "      <td></td>\n",
       "      <td></td>\n",
       "    </tr>\n",
       "    <tr>\n",
       "      <th>9997</th>\n",
       "      <td>False</td>\n",
       "      <td>07 1, 2014</td>\n",
       "      <td>A29XWXJ525HH7O</td>\n",
       "      <td>B00CG69F3E</td>\n",
       "      <td>Flunk solidifies their evolution on this album...</td>\n",
       "      <td>Flunk solidifies their evolution on this album...</td>\n",
       "      <td>1404172800</td>\n",
       "      <td>_</td>\n",
       "      <td>9997</td>\n",
       "      <td>MP3 Music</td>\n",
       "      <td>3</td>\n",
       "      <td></td>\n",
       "    </tr>\n",
       "    <tr>\n",
       "      <th>9998</th>\n",
       "      <td>True</td>\n",
       "      <td>05 29, 2017</td>\n",
       "      <td>A1QJ6G5B7VRAYP</td>\n",
       "      <td>B00CG68G7K</td>\n",
       "      <td>it's a good getting over you song</td>\n",
       "      <td>it's a good getting over you song Five Stars</td>\n",
       "      <td>1496016000</td>\n",
       "      <td>_</td>\n",
       "      <td>9998</td>\n",
       "      <td>MP3 Music</td>\n",
       "      <td></td>\n",
       "      <td></td>\n",
       "    </tr>\n",
       "    <tr>\n",
       "      <th>9999</th>\n",
       "      <td>True</td>\n",
       "      <td>08 5, 2014</td>\n",
       "      <td>A1RYJ6Z6U6JSCD</td>\n",
       "      <td>B00CG68G7K</td>\n",
       "      <td>Love the Nashville soundtrack!!!</td>\n",
       "      <td>Love the Nashville soundtrack!!! Five Stars</td>\n",
       "      <td>1407196800</td>\n",
       "      <td>_</td>\n",
       "      <td>9999</td>\n",
       "      <td>MP3 Music</td>\n",
       "      <td></td>\n",
       "      <td></td>\n",
       "    </tr>\n",
       "  </tbody>\n",
       "</table>\n",
       "<p>10000 rows × 12 columns</p>\n",
       "</div>"
      ],
      "text/plain": [
       "      verified   reviewTime      reviewerID        asin  \\\n",
       "0         True  10 24, 2017  A2HAJB8L9NVYTZ  B007Y1AMHE   \n",
       "1         True   04 8, 2015   AD78RH9JWBDEU  B007Y1AMHE   \n",
       "2         True   03 3, 2015    A5UNQFT0JQ8B  B007Y1AMHE   \n",
       "3         True  05 31, 2014  A1NPTQTAYO51XW  B007Y1AMHE   \n",
       "4         True  01 21, 2013   AZ7ON5N7DLC6Y  B007Y1BQ9M   \n",
       "...        ...          ...             ...         ...   \n",
       "9995     False   02 4, 2016  A3FY8ZFJFF7NP2  B00CG68C0G   \n",
       "9996     False  01 10, 2015  A2APTRQDU48IPH  B00CG68C0G   \n",
       "9997     False   07 1, 2014  A29XWXJ525HH7O  B00CG69F3E   \n",
       "9998      True  05 29, 2017  A1QJ6G5B7VRAYP  B00CG68G7K   \n",
       "9999      True   08 5, 2014  A1RYJ6Z6U6JSCD  B00CG68G7K   \n",
       "\n",
       "                                             reviewText  \\\n",
       "0                                                    ok   \n",
       "1                                           Its awesome   \n",
       "2                                   great, really good!   \n",
       "3     THANK THEE LORD FOR THIS YOUNG MAN WISDOM, I P...   \n",
       "4     Andy Gibson has a good Texas music sound that ...   \n",
       "...                                                 ...   \n",
       "9995                                 Love this song!!!!   \n",
       "9996                                    Very nice song.   \n",
       "9997  Flunk solidifies their evolution on this album...   \n",
       "9998                  it's a good getting over you song   \n",
       "9999                   Love the Nashville soundtrack!!!   \n",
       "\n",
       "                                                summary  unixReviewTime  \\\n",
       "0                                                 ok ok      1508803200   \n",
       "1                                   Its awesome love it      1428451200   \n",
       "2                        great, really good! Five Stars      1425340800   \n",
       "3     THANK THEE LORD FOR THIS YOUNG MAN WISDOM, I P...      1401494400   \n",
       "4     Andy Gibson has a good Texas music sound that ...      1358726400   \n",
       "...                                                 ...             ...   \n",
       "9995                   Love this song!!!! Great song!!!      1454544000   \n",
       "9996                         Very nice song. Five Stars      1420848000   \n",
       "9997  Flunk solidifies their evolution on this album...      1404172800   \n",
       "9998       it's a good getting over you song Five Stars      1496016000   \n",
       "9999        Love the Nashville soundtrack!!! Five Stars      1407196800   \n",
       "\n",
       "     sentiment    id style.Format: vote image  \n",
       "0            _     0                           \n",
       "1            _     1                           \n",
       "2            _     2                           \n",
       "3            _     3                           \n",
       "4            _     4     MP3 Music             \n",
       "...        ...   ...           ...  ...   ...  \n",
       "9995         _  9995     MP3 Music             \n",
       "9996         _  9996     MP3 Music             \n",
       "9997         _  9997     MP3 Music    3        \n",
       "9998         _  9998     MP3 Music             \n",
       "9999         _  9999     MP3 Music             \n",
       "\n",
       "[10000 rows x 12 columns]"
      ]
     },
     "execution_count": 21,
     "metadata": {},
     "output_type": "execute_result"
    }
   ],
   "source": [
    "df_test"
   ]
  },
  {
   "cell_type": "code",
   "execution_count": 22,
   "metadata": {},
   "outputs": [],
   "source": [
    "from sklearn.metrics import confusion_matrix"
   ]
  },
  {
   "cell_type": "code",
   "execution_count": 23,
   "metadata": {},
   "outputs": [
    {
     "data": {
      "text/plain": [
       "array([[3783,  274],\n",
       "       [ 533, 5410]], dtype=int64)"
      ]
     },
     "execution_count": 23,
     "metadata": {},
     "output_type": "execute_result"
    }
   ],
   "source": [
    "confusion_matrix(preds,data_dev[\"sentiment\"])"
   ]
  },
  {
   "cell_type": "code",
   "execution_count": 24,
   "metadata": {},
   "outputs": [],
   "source": [
    "pd.DataFrame(preds_test).to_csv(\"submission.csv\")"
   ]
  }
 ],
 "metadata": {
  "kernelspec": {
   "display_name": "Python 3",
   "language": "python",
   "name": "python3"
  },
  "language_info": {
   "codemirror_mode": {
    "name": "ipython",
    "version": 3
   },
   "file_extension": ".py",
   "mimetype": "text/x-python",
   "name": "python",
   "nbconvert_exporter": "python",
   "pygments_lexer": "ipython3",
   "version": "3.8.5"
  }
 },
 "nbformat": 4,
 "nbformat_minor": 4
}
