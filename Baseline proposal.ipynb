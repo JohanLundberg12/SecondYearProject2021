{
 "cells": [
  {
   "cell_type": "code",
   "execution_count": 1,
   "metadata": {},
   "outputs": [],
   "source": [
    "import gzip\n",
    "import json\n",
    "import pandas as pd\n",
    "from sklearn.pipeline import Pipeline\n",
    "from sklearn.base import BaseEstimator, TransformerMixin\n",
    "from sklearn.naive_bayes import GaussianNB, MultinomialNB ,BernoulliNB\n",
    "from Load import json_to_df\n",
    "import preprocess\n",
    "import re\n",
    "import numpy as np\n",
    "from sklearn.feature_extraction.text import TfidfVectorizer, CountVectorizer\n",
    "from sklearn.metrics import f1_score\n",
    "from sklearn.metrics import confusion_matrix"
   ]
  },
  {
   "cell_type": "code",
   "execution_count": 2,
   "metadata": {},
   "outputs": [],
   "source": [
    "import seaborn as sns\n",
    "import matplotlib.pyplot as plt"
   ]
  },
  {
   "cell_type": "markdown",
   "metadata": {},
   "source": [
    "# Dataset"
   ]
  },
  {
   "cell_type": "code",
   "execution_count": 3,
   "metadata": {
    "scrolled": true
   },
   "outputs": [
    {
     "data": {
      "text/html": [
       "<div>\n",
       "<style scoped>\n",
       "    .dataframe tbody tr th:only-of-type {\n",
       "        vertical-align: middle;\n",
       "    }\n",
       "\n",
       "    .dataframe tbody tr th {\n",
       "        vertical-align: top;\n",
       "    }\n",
       "\n",
       "    .dataframe thead th {\n",
       "        text-align: right;\n",
       "    }\n",
       "</style>\n",
       "<table border=\"1\" class=\"dataframe\">\n",
       "  <thead>\n",
       "    <tr style=\"text-align: right;\">\n",
       "      <th></th>\n",
       "      <th>marketplace</th>\n",
       "      <th>customer_id</th>\n",
       "      <th>review_id</th>\n",
       "      <th>product_id</th>\n",
       "      <th>product_parent</th>\n",
       "      <th>product_title</th>\n",
       "      <th>product_category</th>\n",
       "      <th>star_rating</th>\n",
       "      <th>helpful_votes</th>\n",
       "      <th>total_votes</th>\n",
       "      <th>vine</th>\n",
       "      <th>verified_purchase</th>\n",
       "      <th>review_headline</th>\n",
       "      <th>review_body</th>\n",
       "      <th>review_date</th>\n",
       "      <th>sentiment</th>\n",
       "    </tr>\n",
       "  </thead>\n",
       "  <tbody>\n",
       "    <tr>\n",
       "      <th>0</th>\n",
       "      <td>US</td>\n",
       "      <td>10140119</td>\n",
       "      <td>R3LI5TRP3YIDQL</td>\n",
       "      <td>B00TXH4OLC</td>\n",
       "      <td>384427924</td>\n",
       "      <td>Whatever's for Us: Remastered</td>\n",
       "      <td>Music</td>\n",
       "      <td>5</td>\n",
       "      <td>0</td>\n",
       "      <td>0</td>\n",
       "      <td>N</td>\n",
       "      <td>Y</td>\n",
       "      <td>Five Stars</td>\n",
       "      <td>Love this CD along with other CDs by the same ...</td>\n",
       "      <td>2015-08-31</td>\n",
       "      <td>positive</td>\n",
       "    </tr>\n",
       "    <tr>\n",
       "      <th>1</th>\n",
       "      <td>US</td>\n",
       "      <td>27664622</td>\n",
       "      <td>R3LGC3EKEG84PX</td>\n",
       "      <td>B00B6QXN6U</td>\n",
       "      <td>831769051</td>\n",
       "      <td>Same Trailer Different Park</td>\n",
       "      <td>Music</td>\n",
       "      <td>5</td>\n",
       "      <td>0</td>\n",
       "      <td>0</td>\n",
       "      <td>N</td>\n",
       "      <td>Y</td>\n",
       "      <td>A new fave in our house</td>\n",
       "      <td>This is the album that introduced me to Kacey ...</td>\n",
       "      <td>2015-08-31</td>\n",
       "      <td>positive</td>\n",
       "    </tr>\n",
       "    <tr>\n",
       "      <th>2</th>\n",
       "      <td>US</td>\n",
       "      <td>45946560</td>\n",
       "      <td>R9PYL3OYH55QY</td>\n",
       "      <td>B001GCZXW6</td>\n",
       "      <td>14067376</td>\n",
       "      <td>Soaring (Jazz Club)</td>\n",
       "      <td>Music</td>\n",
       "      <td>5</td>\n",
       "      <td>0</td>\n",
       "      <td>1</td>\n",
       "      <td>N</td>\n",
       "      <td>Y</td>\n",
       "      <td>Five Stars</td>\n",
       "      <td>Excellent / thanks</td>\n",
       "      <td>2015-08-31</td>\n",
       "      <td>positive</td>\n",
       "    </tr>\n",
       "    <tr>\n",
       "      <th>3</th>\n",
       "      <td>US</td>\n",
       "      <td>16794688</td>\n",
       "      <td>R15LYP3O51UU9E</td>\n",
       "      <td>B00N1F0BKK</td>\n",
       "      <td>210426072</td>\n",
       "      <td>Pain Killer</td>\n",
       "      <td>Music</td>\n",
       "      <td>5</td>\n",
       "      <td>0</td>\n",
       "      <td>0</td>\n",
       "      <td>N</td>\n",
       "      <td>Y</td>\n",
       "      <td>Five Stars</td>\n",
       "      <td>Purchased as a gift and they loved this cd</td>\n",
       "      <td>2015-08-31</td>\n",
       "      <td>positive</td>\n",
       "    </tr>\n",
       "    <tr>\n",
       "      <th>4</th>\n",
       "      <td>US</td>\n",
       "      <td>32203364</td>\n",
       "      <td>R1AD7L0CC3DSRI</td>\n",
       "      <td>B00V7KAO7Q</td>\n",
       "      <td>360249504</td>\n",
       "      <td>A Thoughtiverse Unmarred</td>\n",
       "      <td>Music</td>\n",
       "      <td>5</td>\n",
       "      <td>0</td>\n",
       "      <td>0</td>\n",
       "      <td>N</td>\n",
       "      <td>Y</td>\n",
       "      <td>Definitely worth a listen.</td>\n",
       "      <td>Really enjoyed the content of this album.  I b...</td>\n",
       "      <td>2015-08-31</td>\n",
       "      <td>positive</td>\n",
       "    </tr>\n",
       "    <tr>\n",
       "      <th>...</th>\n",
       "      <td>...</td>\n",
       "      <td>...</td>\n",
       "      <td>...</td>\n",
       "      <td>...</td>\n",
       "      <td>...</td>\n",
       "      <td>...</td>\n",
       "      <td>...</td>\n",
       "      <td>...</td>\n",
       "      <td>...</td>\n",
       "      <td>...</td>\n",
       "      <td>...</td>\n",
       "      <td>...</td>\n",
       "      <td>...</td>\n",
       "      <td>...</td>\n",
       "      <td>...</td>\n",
       "      <td>...</td>\n",
       "    </tr>\n",
       "    <tr>\n",
       "      <th>4439906</th>\n",
       "      <td>US</td>\n",
       "      <td>53065285</td>\n",
       "      <td>RCCO7QP25QFYU</td>\n",
       "      <td>B0000032CU</td>\n",
       "      <td>734573994</td>\n",
       "      <td>The Vogues - Greatest Hits</td>\n",
       "      <td>Music</td>\n",
       "      <td>5</td>\n",
       "      <td>30</td>\n",
       "      <td>31</td>\n",
       "      <td>N</td>\n",
       "      <td>N</td>\n",
       "      <td>Excellent! Melodic; superb vocal harmonies! A ...</td>\n",
       "      <td>The Vogues are a band that I recently rediscov...</td>\n",
       "      <td>1996-12-20</td>\n",
       "      <td>positive</td>\n",
       "    </tr>\n",
       "    <tr>\n",
       "      <th>4439907</th>\n",
       "      <td>US</td>\n",
       "      <td>53058447</td>\n",
       "      <td>R2K6VMIL048HD3</td>\n",
       "      <td>B0000000K4</td>\n",
       "      <td>126873550</td>\n",
       "      <td>Passages</td>\n",
       "      <td>Music</td>\n",
       "      <td>5</td>\n",
       "      <td>6</td>\n",
       "      <td>7</td>\n",
       "      <td>N</td>\n",
       "      <td>N</td>\n",
       "      <td>The upmost delightful sound collection you can...</td>\n",
       "      <td>The collaboration between the indian musician ...</td>\n",
       "      <td>1996-10-18</td>\n",
       "      <td>positive</td>\n",
       "    </tr>\n",
       "    <tr>\n",
       "      <th>4439908</th>\n",
       "      <td>US</td>\n",
       "      <td>52852984</td>\n",
       "      <td>R1ZOIUY0UMHPE4</td>\n",
       "      <td>B000001U6M</td>\n",
       "      <td>735790595</td>\n",
       "      <td>Like the Willow Tree</td>\n",
       "      <td>Music</td>\n",
       "      <td>5</td>\n",
       "      <td>4</td>\n",
       "      <td>4</td>\n",
       "      <td>N</td>\n",
       "      <td>N</td>\n",
       "      <td>Wonderful Celtic/American folk</td>\n",
       "      <td>Atwater-Donnelly (note the 'y') is a folk grou...</td>\n",
       "      <td>1996-07-07</td>\n",
       "      <td>positive</td>\n",
       "    </tr>\n",
       "    <tr>\n",
       "      <th>4439909</th>\n",
       "      <td>US</td>\n",
       "      <td>52152881</td>\n",
       "      <td>R4X9DR0KSYFXD</td>\n",
       "      <td>B000001FBU</td>\n",
       "      <td>880908728</td>\n",
       "      <td>Creatures of the Night</td>\n",
       "      <td>Music</td>\n",
       "      <td>4</td>\n",
       "      <td>1</td>\n",
       "      <td>1</td>\n",
       "      <td>N</td>\n",
       "      <td>N</td>\n",
       "      <td>Kiss' return to hard rock from Disco. One of t...</td>\n",
       "      <td>After briefly visiting the world of Disco and ...</td>\n",
       "      <td>1996-05-20</td>\n",
       "      <td>positive</td>\n",
       "    </tr>\n",
       "    <tr>\n",
       "      <th>4439910</th>\n",
       "      <td>US</td>\n",
       "      <td>53096485</td>\n",
       "      <td>R87VUTMFOE6N</td>\n",
       "      <td>B000002OTL</td>\n",
       "      <td>877615083</td>\n",
       "      <td>Pulp Fiction: Music From The Motion Picture</td>\n",
       "      <td>Music</td>\n",
       "      <td>5</td>\n",
       "      <td>0</td>\n",
       "      <td>1</td>\n",
       "      <td>N</td>\n",
       "      <td>N</td>\n",
       "      <td>Pulp Fiction Soundtrack: EXCELLENT!!!!</td>\n",
       "      <td>Pulp Fiction the movie is one of my favorite m...</td>\n",
       "      <td>1995-11-11</td>\n",
       "      <td>positive</td>\n",
       "    </tr>\n",
       "  </tbody>\n",
       "</table>\n",
       "<p>4439911 rows × 16 columns</p>\n",
       "</div>"
      ],
      "text/plain": [
       "        marketplace  customer_id       review_id  product_id  product_parent  \\\n",
       "0                US     10140119  R3LI5TRP3YIDQL  B00TXH4OLC       384427924   \n",
       "1                US     27664622  R3LGC3EKEG84PX  B00B6QXN6U       831769051   \n",
       "2                US     45946560   R9PYL3OYH55QY  B001GCZXW6        14067376   \n",
       "3                US     16794688  R15LYP3O51UU9E  B00N1F0BKK       210426072   \n",
       "4                US     32203364  R1AD7L0CC3DSRI  B00V7KAO7Q       360249504   \n",
       "...             ...          ...             ...         ...             ...   \n",
       "4439906          US     53065285   RCCO7QP25QFYU  B0000032CU       734573994   \n",
       "4439907          US     53058447  R2K6VMIL048HD3  B0000000K4       126873550   \n",
       "4439908          US     52852984  R1ZOIUY0UMHPE4  B000001U6M       735790595   \n",
       "4439909          US     52152881   R4X9DR0KSYFXD  B000001FBU       880908728   \n",
       "4439910          US     53096485    R87VUTMFOE6N  B000002OTL       877615083   \n",
       "\n",
       "                                       product_title product_category  \\\n",
       "0                      Whatever's for Us: Remastered            Music   \n",
       "1                        Same Trailer Different Park            Music   \n",
       "2                                Soaring (Jazz Club)            Music   \n",
       "3                                        Pain Killer            Music   \n",
       "4                           A Thoughtiverse Unmarred            Music   \n",
       "...                                              ...              ...   \n",
       "4439906                   The Vogues - Greatest Hits            Music   \n",
       "4439907                                     Passages            Music   \n",
       "4439908                         Like the Willow Tree            Music   \n",
       "4439909                       Creatures of the Night            Music   \n",
       "4439910  Pulp Fiction: Music From The Motion Picture            Music   \n",
       "\n",
       "         star_rating  helpful_votes  total_votes vine verified_purchase  \\\n",
       "0                  5              0            0    N                 Y   \n",
       "1                  5              0            0    N                 Y   \n",
       "2                  5              0            1    N                 Y   \n",
       "3                  5              0            0    N                 Y   \n",
       "4                  5              0            0    N                 Y   \n",
       "...              ...            ...          ...  ...               ...   \n",
       "4439906            5             30           31    N                 N   \n",
       "4439907            5              6            7    N                 N   \n",
       "4439908            5              4            4    N                 N   \n",
       "4439909            4              1            1    N                 N   \n",
       "4439910            5              0            1    N                 N   \n",
       "\n",
       "                                           review_headline  \\\n",
       "0                                               Five Stars   \n",
       "1                                  A new fave in our house   \n",
       "2                                               Five Stars   \n",
       "3                                               Five Stars   \n",
       "4                               Definitely worth a listen.   \n",
       "...                                                    ...   \n",
       "4439906  Excellent! Melodic; superb vocal harmonies! A ...   \n",
       "4439907  The upmost delightful sound collection you can...   \n",
       "4439908                     Wonderful Celtic/American folk   \n",
       "4439909  Kiss' return to hard rock from Disco. One of t...   \n",
       "4439910             Pulp Fiction Soundtrack: EXCELLENT!!!!   \n",
       "\n",
       "                                               review_body review_date  \\\n",
       "0        Love this CD along with other CDs by the same ...  2015-08-31   \n",
       "1        This is the album that introduced me to Kacey ...  2015-08-31   \n",
       "2                                       Excellent / thanks  2015-08-31   \n",
       "3               Purchased as a gift and they loved this cd  2015-08-31   \n",
       "4        Really enjoyed the content of this album.  I b...  2015-08-31   \n",
       "...                                                    ...         ...   \n",
       "4439906  The Vogues are a band that I recently rediscov...  1996-12-20   \n",
       "4439907  The collaboration between the indian musician ...  1996-10-18   \n",
       "4439908  Atwater-Donnelly (note the 'y') is a folk grou...  1996-07-07   \n",
       "4439909  After briefly visiting the world of Disco and ...  1996-05-20   \n",
       "4439910  Pulp Fiction the movie is one of my favorite m...  1995-11-11   \n",
       "\n",
       "        sentiment  \n",
       "0        positive  \n",
       "1        positive  \n",
       "2        positive  \n",
       "3        positive  \n",
       "4        positive  \n",
       "...           ...  \n",
       "4439906  positive  \n",
       "4439907  positive  \n",
       "4439908  positive  \n",
       "4439909  positive  \n",
       "4439910  positive  \n",
       "\n",
       "[4439911 rows x 16 columns]"
      ]
     },
     "execution_count": 3,
     "metadata": {},
     "output_type": "execute_result"
    }
   ],
   "source": [
    "df = pd.read_csv(\"data\\\\music_reviews.csv\")\n",
    "df"
   ]
  },
  {
   "cell_type": "code",
   "execution_count": 5,
   "metadata": {},
   "outputs": [],
   "source": [
    "df.columns = ['marketplace', 'customer_id', 'review_id', 'product_id',\n",
    "       'product_parent', 'product_title', 'product_category', 'star_rating',\n",
    "       'helpful_votes', 'total_votes', 'vine', 'verified_purchase',\n",
    "       'summary', 'reviewText', 'review_date', 'sentiment']"
   ]
  },
  {
   "cell_type": "markdown",
   "metadata": {},
   "source": [
    "## Preproccesing\n",
    "- using both the review and summary\n",
    "- making the targets (0,1)\n",
    "- dropping empty rows"
   ]
  },
  {
   "cell_type": "markdown",
   "metadata": {},
   "source": [
    "### Train set"
   ]
  },
  {
   "cell_type": "code",
   "execution_count": 6,
   "metadata": {},
   "outputs": [],
   "source": [
    "df = df.replace(np.nan, '', regex=True)"
   ]
  },
  {
   "cell_type": "code",
   "execution_count": 7,
   "metadata": {},
   "outputs": [],
   "source": [
    "df['summary'] = df.reviewText + ' ' + df.summary"
   ]
  },
  {
   "cell_type": "code",
   "execution_count": 8,
   "metadata": {},
   "outputs": [],
   "source": [
    "data = df[[\"summary\",\"sentiment\"]]"
   ]
  },
  {
   "cell_type": "code",
   "execution_count": 9,
   "metadata": {},
   "outputs": [],
   "source": [
    "data = data.replace({\"sentiment\":{\"positive\":1,\"negative\":0}})"
   ]
  },
  {
   "cell_type": "markdown",
   "metadata": {},
   "source": [
    "### Validation set"
   ]
  },
  {
   "cell_type": "code",
   "execution_count": 12,
   "metadata": {},
   "outputs": [],
   "source": [
    "df_dev = json_to_df(\"data\\\\music_reviews_dev.json\")"
   ]
  },
  {
   "cell_type": "code",
   "execution_count": 13,
   "metadata": {},
   "outputs": [],
   "source": [
    "df_dev = df_dev.replace(np.nan, '', regex=True)"
   ]
  },
  {
   "cell_type": "code",
   "execution_count": 14,
   "metadata": {},
   "outputs": [],
   "source": [
    "df_dev[\"summary\"] = df_dev.reviewText + ' ' + df_dev.summary"
   ]
  },
  {
   "cell_type": "code",
   "execution_count": 15,
   "metadata": {},
   "outputs": [],
   "source": [
    "data_dev = df_dev[[\"summary\",\"sentiment\"]]\n",
    "data_dev = data_dev.replace({\"sentiment\":{\"positive\":1,\"negative\":0}})"
   ]
  },
  {
   "cell_type": "markdown",
   "metadata": {},
   "source": [
    "## Pipeline\n",
    "- words counts\n",
    "- naive bayes"
   ]
  },
  {
   "cell_type": "code",
   "execution_count": 10,
   "metadata": {},
   "outputs": [],
   "source": [
    "pipeline = Pipeline(steps=[\n",
    "    (\"TFIDFVectorizer_transform\",TfidfVectorizer()),\n",
    "    (\"MultinomialNB\", MultinomialNB())\n",
    "])"
   ]
  },
  {
   "cell_type": "code",
   "execution_count": 11,
   "metadata": {
    "scrolled": true
   },
   "outputs": [
    {
     "data": {
      "text/plain": [
       "Pipeline(steps=[('TFIDFVectorizer_transform', TfidfVectorizer()),\n",
       "                ('MultinomialNB', MultinomialNB())])"
      ]
     },
     "execution_count": 11,
     "metadata": {},
     "output_type": "execute_result"
    }
   ],
   "source": [
    "pipeline.fit(data[\"summary\"],data[\"sentiment\"])"
   ]
  },
  {
   "cell_type": "markdown",
   "metadata": {},
   "source": [
    "## Validation\n",
    "Using f1 score to validate"
   ]
  },
  {
   "cell_type": "code",
   "execution_count": 16,
   "metadata": {},
   "outputs": [],
   "source": [
    "preds = pipeline.predict(data_dev[\"summary\"])"
   ]
  },
  {
   "cell_type": "code",
   "execution_count": 17,
   "metadata": {},
   "outputs": [
    {
     "data": {
      "text/plain": [
       "0.7318140852323934"
      ]
     },
     "execution_count": 17,
     "metadata": {},
     "output_type": "execute_result"
    }
   ],
   "source": [
    "f1_score(preds, data_dev[\"sentiment\"])"
   ]
  },
  {
   "cell_type": "code",
   "execution_count": 19,
   "metadata": {},
   "outputs": [],
   "source": [
    "import pickle"
   ]
  },
  {
   "cell_type": "code",
   "execution_count": 21,
   "metadata": {},
   "outputs": [],
   "source": [
    "pickle.dump(pipeline, open(\"baseline_model.pickle\",\"wb\"))"
   ]
  },
  {
   "cell_type": "code",
   "execution_count": 16,
   "metadata": {},
   "outputs": [
    {
     "ename": "NameError",
     "evalue": "name 'confusion_matrix' is not defined",
     "output_type": "error",
     "traceback": [
      "\u001b[1;31m---------------------------------------------------------------------------\u001b[0m",
      "\u001b[1;31mNameError\u001b[0m                                 Traceback (most recent call last)",
      "\u001b[1;32m<ipython-input-16-c4563a37cc54>\u001b[0m in \u001b[0;36m<module>\u001b[1;34m\u001b[0m\n\u001b[1;32m----> 1\u001b[1;33m \u001b[0mmat\u001b[0m \u001b[1;33m=\u001b[0m \u001b[0mconfusion_matrix\u001b[0m\u001b[1;33m(\u001b[0m\u001b[0mdata_dev\u001b[0m\u001b[1;33m[\u001b[0m\u001b[1;34m\"sentiment\"\u001b[0m\u001b[1;33m]\u001b[0m\u001b[1;33m,\u001b[0m \u001b[0mpreds\u001b[0m\u001b[1;33m)\u001b[0m\u001b[1;33m\u001b[0m\u001b[1;33m\u001b[0m\u001b[0m\n\u001b[0m\u001b[0;32m      2\u001b[0m \u001b[0msns\u001b[0m\u001b[1;33m.\u001b[0m\u001b[0mheatmap\u001b[0m\u001b[1;33m(\u001b[0m\u001b[0mmat\u001b[0m\u001b[1;33m.\u001b[0m\u001b[0mT\u001b[0m\u001b[1;33m,\u001b[0m \u001b[0msquare\u001b[0m \u001b[1;33m=\u001b[0m \u001b[1;32mTrue\u001b[0m\u001b[1;33m,\u001b[0m \u001b[0mannot\u001b[0m\u001b[1;33m=\u001b[0m\u001b[1;32mTrue\u001b[0m\u001b[1;33m,\u001b[0m \u001b[0mfmt\u001b[0m \u001b[1;33m=\u001b[0m \u001b[1;34m\"d\"\u001b[0m\u001b[1;33m,\u001b[0m\u001b[1;33m)\u001b[0m\u001b[1;33m\u001b[0m\u001b[1;33m\u001b[0m\u001b[0m\n\u001b[0;32m      3\u001b[0m \u001b[0mplt\u001b[0m\u001b[1;33m.\u001b[0m\u001b[0mxlabel\u001b[0m\u001b[1;33m(\u001b[0m\u001b[1;34m\"true labels\"\u001b[0m\u001b[1;33m)\u001b[0m\u001b[1;33m\u001b[0m\u001b[1;33m\u001b[0m\u001b[0m\n\u001b[0;32m      4\u001b[0m \u001b[0mplt\u001b[0m\u001b[1;33m.\u001b[0m\u001b[0mylabel\u001b[0m\u001b[1;33m(\u001b[0m\u001b[1;34m\"predicted label\"\u001b[0m\u001b[1;33m)\u001b[0m\u001b[1;33m\u001b[0m\u001b[1;33m\u001b[0m\u001b[0m\n\u001b[0;32m      5\u001b[0m \u001b[0mplt\u001b[0m\u001b[1;33m.\u001b[0m\u001b[0mshow\u001b[0m\u001b[1;33m(\u001b[0m\u001b[1;33m)\u001b[0m\u001b[1;33m\u001b[0m\u001b[1;33m\u001b[0m\u001b[0m\n",
      "\u001b[1;31mNameError\u001b[0m: name 'confusion_matrix' is not defined"
     ]
    }
   ],
   "source": [
    "mat = confusion_matrix(data_dev[\"sentiment\"], preds)\n",
    "sns.heatmap(mat.T, square = True, annot=True, fmt = \"d\",)\n",
    "plt.xlabel(\"true labels\")\n",
    "plt.ylabel(\"predicted label\")\n",
    "plt.show()"
   ]
  },
  {
   "cell_type": "code",
   "execution_count": null,
   "metadata": {},
   "outputs": [],
   "source": [
    "df_test = json_to_df(\"data\\\\music_reviews_test_masked.json\")"
   ]
  },
  {
   "cell_type": "code",
   "execution_count": null,
   "metadata": {},
   "outputs": [],
   "source": [
    "df_test = df_test.replace(np.nan, '', regex=True)"
   ]
  },
  {
   "cell_type": "code",
   "execution_count": null,
   "metadata": {},
   "outputs": [],
   "source": [
    "df_test[\"summary\"] = df_test.reviewText + \" \" + df_test.summary"
   ]
  },
  {
   "cell_type": "code",
   "execution_count": null,
   "metadata": {},
   "outputs": [],
   "source": [
    "data_test = df_test[[\"summary\",\"sentiment\"]]"
   ]
  },
  {
   "cell_type": "code",
   "execution_count": null,
   "metadata": {
    "scrolled": true
   },
   "outputs": [],
   "source": [
    "preds_test = pipeline.predict(data_test[\"summary\"])"
   ]
  },
  {
   "cell_type": "code",
   "execution_count": null,
   "metadata": {},
   "outputs": [],
   "source": [
    "df_test"
   ]
  },
  {
   "cell_type": "code",
   "execution_count": null,
   "metadata": {},
   "outputs": [],
   "source": []
  },
  {
   "cell_type": "code",
   "execution_count": null,
   "metadata": {},
   "outputs": [],
   "source": [
    "confusion_matrix(preds,data_dev[\"sentiment\"])"
   ]
  },
  {
   "cell_type": "code",
   "execution_count": null,
   "metadata": {},
   "outputs": [],
   "source": [
    "pd.DataFrame(preds_test).to_csv(\"submission.csv\")"
   ]
  }
 ],
 "metadata": {
  "kernelspec": {
   "display_name": "Python 3",
   "language": "python",
   "name": "python3"
  },
  "language_info": {
   "codemirror_mode": {
    "name": "ipython",
    "version": 3
   },
   "file_extension": ".py",
   "mimetype": "text/x-python",
   "name": "python",
   "nbconvert_exporter": "python",
   "pygments_lexer": "ipython3",
   "version": "3.7.10"
  }
 },
 "nbformat": 4,
 "nbformat_minor": 4
}
